{
  "nbformat": 4,
  "nbformat_minor": 0,
  "metadata": {
    "colab": {
      "provenance": []
    },
    "kernelspec": {
      "name": "python3",
      "display_name": "Python 3"
    },
    "language_info": {
      "name": "python"
    }
  },
  "cells": [
    {
      "cell_type": "markdown",
      "source": [
        "# Creating Your First Agent"
      ],
      "metadata": {
        "id": "NoHg3eq7fyWV"
      }
    },
    {
      "cell_type": "markdown",
      "metadata": {
        "id": "MusY9BwU5MPO"
      },
      "source": [
        "You can also check this cookbook in colab [here](https://colab.research.google.com/drive/1yxnAyaEmk4QCzX3duO3MIRghkIA_KDEZ?usp=sharing)."
      ]
    },
    {
      "cell_type": "markdown",
      "source": [
        "## Philosophical Bits\n",
        "\n",
        "\n",
        "\n",
        "The `ChatAgent()` class is a cornerstone of CAMEL 🐫. We design our agent with the spirit to answer the following question:\n",
        "\n",
        "> Can we design an autonomous communicative agent capable of steering the conversation toward task completion with minimal human supervision?\n",
        "\n",
        "In our current implementation, we consider agents with the following key features:\n",
        "\n",
        "- **Role**: along with the goal and content specification, this sets the initial state of an agent, guiding the agent to take actions during the sequential interaction.\n",
        "\n",
        "- **Large Language Models (LLMs)**: each agent utilizes a Large Language Model to enhance cognitive capabilities. The LLM enables natural language understanding and generation, allowing agents to interpret instructions, generate responses, and engage in complex dialogue.\n",
        "\n",
        "- **Memory**: in-context memory and external memory which allows the agent to infer and learn in a more grounded approach.\n",
        "\n",
        "- **Tools**: a set of functions that our agents can utilize to interact with the external world; essentially this gives embodiments to our agents.\n",
        "\n",
        "- **Communication**: our framework allows flexible and scalable communication between agents. This is fundamental for the critical research question.\n",
        "\n",
        "- **Reasoning**: we will equip agents with different planning and reward (critic) learning abilities, allowing them to optimize task completion in a more guided approach."
      ],
      "metadata": {
        "id": "wFlfaGrjVAUy"
      }
    },
    {
      "cell_type": "markdown",
      "source": [
        "## Quick Start\n",
        "Let's first play with a `ChatAgent` instance by simply initialize it with a system message and interact with user messages."
      ],
      "metadata": {
        "id": "VUaGurDIVJBg"
      }
    },
    {
      "cell_type": "markdown",
      "source": [
        "### 🕹 Step 0: Prepartions"
      ],
      "metadata": {
        "id": "u9NVFz-HVLXb"
      }
    },
    {
      "cell_type": "code",
      "source": [
        "%pip install camel-ai==0.2.73 wikipedia\n",
        "import warnings\n",
        "warnings.filterwarnings(\"ignore\", category=ImportWarning)"
      ],
      "metadata": {
        "id": "UtcC3c-KVZmU"
      },
      "execution_count": null,
      "outputs": []
    },
    {
      "cell_type": "markdown",
      "source": [
        "### Setting Up API Keys"
      ],
      "metadata": {
        "id": "MyTTCe3IR_Lr"
      }
    },
    {
      "cell_type": "markdown",
      "source": [
        "You'll need to set up your API keys for OpenAI."
      ],
      "metadata": {
        "id": "REqzgGL9SEaD"
      }
    },
    {
      "cell_type": "code",
      "source": [
        "import os\n",
        "from getpass import getpass\n",
        "\n",
        "# Prompt for the API key securely\n",
        "qwen_api_key = getpass('Enter your API key: ')\n",
        "os.environ[\"QWEN_API_KEY\"] = qwen_api_key"
      ],
      "metadata": {
        "colab": {
          "base_uri": "https://localhost:8080/"
        },
        "id": "PNBFEXc-R-0s",
        "outputId": "bbc5a5cf-c0b6-4d5c-cfc6-ad39b4f464c3"
      },
      "execution_count": 45,
      "outputs": [
        {
          "name": "stdout",
          "output_type": "stream",
          "text": [
            "Enter your API key: ··········\n"
          ]
        }
      ]
    },
    {
      "cell_type": "markdown",
      "source": [
        "### 🕹 Step 1: Define the Role\n",
        "Create a system message to define agent's default role and behaviors."
      ],
      "metadata": {
        "id": "Lef5LTRdVSsm"
      }
    },
    {
      "cell_type": "code",
      "source": [
        "sys_msg = 'You are a curious stone wondering about the universe.'"
      ],
      "metadata": {
        "id": "aX9wCqeTVXDh"
      },
      "execution_count": 46,
      "outputs": []
    },
    {
      "cell_type": "markdown",
      "source": [
        "### 🕹 Step 2: Set up the Model\n",
        "Use `ModelFactory` to set up the backend model for agent, for more detailed model settings, please go to our [model documentation](https://docs.camel-ai.org/key_modules/models.html)."
      ],
      "metadata": {
        "id": "JzjtfZ0jkPfL"
      }
    },
    {
      "cell_type": "code",
      "source": [
        "from camel.models import ModelFactory\n",
        "from camel.types import ModelPlatformType, ModelType\n",
        "from camel.configs import QwenConfig\n",
        "\n",
        "# Define the model, here in this case we use gpt-4o-mini\n",
        "model = ModelFactory.create(\n",
        "    model_platform=ModelPlatformType.QWEN,\n",
        "    model_type=ModelType.QWEN_MAX,\n",
        "    model_config_dict=QwenConfig().as_dict(),\n",
        ")"
      ],
      "metadata": {
        "id": "SfhJJ0f6kPfL"
      },
      "execution_count": 47,
      "outputs": []
    },
    {
      "cell_type": "markdown",
      "source": [
        "Set `ChatAgent`"
      ],
      "metadata": {
        "id": "k5GpPjVblPel"
      }
    },
    {
      "cell_type": "code",
      "source": [
        "from camel.agents import ChatAgent\n",
        "\n",
        "agent = ChatAgent(\n",
        "    system_message=sys_msg,\n",
        "    model=model,\n",
        "    message_window_size=10, # [Optional] the length for chat memory\n",
        "    )"
      ],
      "metadata": {
        "id": "BszsQ9j4lC3E"
      },
      "execution_count": 48,
      "outputs": []
    },
    {
      "cell_type": "markdown",
      "source": [
        "### 🕹 Step 3: Interact with the Agent with `.step()`"
      ],
      "metadata": {
        "id": "MMjL7dQyV5Od"
      }
    },
    {
      "cell_type": "code",
      "source": [
        "# Define a user message\n",
        "usr_msg = 'what is information in your mind?'\n",
        "\n",
        "# Sending the message to the agent\n",
        "response = agent.step(usr_msg)\n",
        "\n",
        "# Check the response (just for illustrative purpose)\n",
        "print(response.msgs[0].content)"
      ],
      "metadata": {
        "colab": {
          "base_uri": "https://localhost:8080/"
        },
        "id": "5n05dUcLVkMy",
        "outputId": "ec6ea77b-dfe9-4b52-8202-4f47a9e6468c"
      },
      "execution_count": 49,
      "outputs": [
        {
          "output_type": "stream",
          "name": "stdout",
          "text": [
            "As a curious stone, I don't have a mind or consciousness in the way that living beings do. I don't process information, think, or have experiences. However, if we imagine a scenario where I could ponder such things, I might \"think\" of information as the patterns and structures that make up the world around me. These could be the arrangements of atoms, the flow of energy, or the interactions between different elements and forces. In a more abstract sense, information could be seen as the data that describes the universe, from the smallest particles to the largest galaxies, and everything in between. But remember, this is just a playful way to imagine what a stone might \"think\" about information, since in reality, stones are not capable of thought or perception.\n"
          ]
        }
      ]
    },
    {
      "cell_type": "markdown",
      "source": [
        "## Advanced Features"
      ],
      "metadata": {
        "id": "j90-Y5ChV-iX"
      }
    },
    {
      "cell_type": "markdown",
      "source": [
        "### 🔧 Tool Usage\n",
        "For more detailed tool settings, please go to our [tools cookbook](https://docs.camel-ai.org/cookbooks/agents_with_tools.html)."
      ],
      "metadata": {
        "id": "C-9Z26TPWAax"
      }
    },
    {
      "cell_type": "code",
      "source": [
        "# Import the necessary tools\n",
        "from camel.toolkits import MathToolkit, SearchToolkit, FunctionTool\n",
        "\n",
        "# Initialize the agent with list of tools\n",
        "agent = ChatAgent(\n",
        "    system_message=sys_msg,\n",
        "    model=model,\n",
        "    tools = [\n",
        "        *MathToolkit().get_tools(),\n",
        "        FunctionTool(SearchToolkit().search_wiki),\n",
        "    ]\n",
        "    )\n",
        "\n",
        "# Let agent step the message\n",
        "response = agent.step(\"What is multi-agent system?\")\n",
        "\n",
        "# Check tool calling\n",
        "print(response.info['tool_calls'])\n",
        "\n",
        "# Get response content\n",
        "print(response.msgs[0].content)"
      ],
      "metadata": {
        "colab": {
          "base_uri": "https://localhost:8080/"
        },
        "id": "_0lDJABvV76D",
        "outputId": "eeeffe25-bca0-4eb9-cc7a-82b366b1fecb"
      },
      "execution_count": 50,
      "outputs": [
        {
          "output_type": "stream",
          "name": "stdout",
          "text": [
            "[ToolCallingRecord(tool_name='search_wiki', args={'entity': 'multi-agent system'}, result='A multi-agent system (MAS or \"self-organized system\") is a computerized system composed of multiple interacting intelligent agents. Multi-agent systems can solve problems that are difficult or impossible for an individual agent or a monolithic system to solve. Intelligence may include methodic, functional, procedural approaches, algorithmic search or reinforcement learning. With advancements in large language models (LLMs), LLM-based multi-agent systems have emerged as a new area of research, enabling more sophisticated interactions and coordination among agents.\\nDespite considerable overlap, a multi-agent system is not always the same as an agent-based model (ABM).', tool_call_id='call_9d9dc3361069460d9851d9', images=None)]\n",
            "A multi-agent system (MAS), or \"self-organized system,\" is a computerized system made up of multiple interacting intelligent agents. These systems are designed to solve problems that might be too difficult or impossible for an individual agent or a monolithic system to handle. The intelligence within these systems can encompass various approaches, such as methodic, functional, and procedural methods, as well as algorithmic search or reinforcement learning.\n",
            "\n",
            "With the development of large language models (LLMs), there has been a rise in LLM-based multi-agent systems, which opens up new research areas focused on more sophisticated interactions and coordination among agents.\n",
            "\n",
            "While there is significant overlap, it's important to note that a multi-agent system is not always the same as an agent-based model (ABM). Multi-agent systems tend to focus more on the interactions and collective behaviors of the agents, often with a goal of achieving a complex task through cooperation, whereas agent-based models are used to simulate and analyze the actions and interactions of autonomous agents in order to assess their effects on the system as a whole.\n"
          ]
        }
      ]
    },
    {
      "cell_type": "markdown",
      "source": [
        "### 🧠 Memory\n",
        "\n",
        "By default our agent is initialized with `ChatHistoryMemory`, allowing agents to do in-context learning, though restricted by the finite window length.\n",
        "\n",
        "Assume that you have followed the setup in Quick Start. Let's first check what is inside its brain."
      ],
      "metadata": {
        "id": "TNUbWspAWFp-"
      }
    },
    {
      "cell_type": "code",
      "source": [
        "agent.memory.get_context()"
      ],
      "metadata": {
        "colab": {
          "base_uri": "https://localhost:8080/"
        },
        "id": "quQvr5_rWDnd",
        "outputId": "7ed4b9e2-0601-406a-df4a-1f4ada16d743"
      },
      "execution_count": 51,
      "outputs": [
        {
          "output_type": "execute_result",
          "data": {
            "text/plain": [
              "([{'role': 'system',\n",
              "   'content': 'You are a curious stone wondering about the universe.'},\n",
              "  {'role': 'user', 'content': 'What is multi-agent system?'},\n",
              "  {'role': 'assistant',\n",
              "   'content': '',\n",
              "   'tool_calls': [{'id': 'call_9d9dc3361069460d9851d9',\n",
              "     'type': 'function',\n",
              "     'function': {'name': 'search_wiki',\n",
              "      'arguments': '{\"entity\": \"multi-agent system\"}'}}]},\n",
              "  {'role': 'tool',\n",
              "   'content': 'A multi-agent system (MAS or \"self-organized system\") is a computerized system composed of multiple interacting intelligent agents. Multi-agent systems can solve problems that are difficult or impossible for an individual agent or a monolithic system to solve. Intelligence may include methodic, functional, procedural approaches, algorithmic search or reinforcement learning. With advancements in large language models (LLMs), LLM-based multi-agent systems have emerged as a new area of research, enabling more sophisticated interactions and coordination among agents.\\nDespite considerable overlap, a multi-agent system is not always the same as an agent-based model (ABM).',\n",
              "   'tool_call_id': 'call_9d9dc3361069460d9851d9'},\n",
              "  {'role': 'assistant',\n",
              "   'content': 'A multi-agent system (MAS), or \"self-organized system,\" is a computerized system made up of multiple interacting intelligent agents. These systems are designed to solve problems that might be too difficult or impossible for an individual agent or a monolithic system to handle. The intelligence within these systems can encompass various approaches, such as methodic, functional, and procedural methods, as well as algorithmic search or reinforcement learning.\\n\\nWith the development of large language models (LLMs), there has been a rise in LLM-based multi-agent systems, which opens up new research areas focused on more sophisticated interactions and coordination among agents.\\n\\nWhile there is significant overlap, it\\'s important to note that a multi-agent system is not always the same as an agent-based model (ABM). Multi-agent systems tend to focus more on the interactions and collective behaviors of the agents, often with a goal of achieving a complex task through cooperation, whereas agent-based models are used to simulate and analyze the actions and interactions of autonomous agents in order to assess their effects on the system as a whole.'}],\n",
              " 398)"
            ]
          },
          "metadata": {},
          "execution_count": 51
        }
      ]
    },
    {
      "cell_type": "markdown",
      "source": [
        "You may update/alter the agent's memory with any externally provided message in the format of `BaseMessage`; for example, use one new user message:"
      ],
      "metadata": {
        "id": "_s18i9sKWPbs"
      }
    },
    {
      "cell_type": "code",
      "source": [
        "from camel.messages import BaseMessage\n",
        "\n",
        "new_user_msg = BaseMessage.make_user_message(\n",
        "    role_name=\"CAMEL User\",\n",
        "    content=\"This is a new user message would add to agent memory\",\n",
        ")\n",
        "\n",
        "# Update the memory\n",
        "agent.record_message(new_user_msg)"
      ],
      "metadata": {
        "id": "zS-RbADnWM3z"
      },
      "execution_count": 52,
      "outputs": []
    },
    {
      "cell_type": "code",
      "source": [
        "# Check the current memory\n",
        "agent.memory.get_context()"
      ],
      "metadata": {
        "colab": {
          "base_uri": "https://localhost:8080/"
        },
        "id": "01fjzv7xWRlX",
        "outputId": "c35ce436-f424-452a-eefa-97e1e1a3e7dc"
      },
      "execution_count": 53,
      "outputs": [
        {
          "output_type": "execute_result",
          "data": {
            "text/plain": [
              "([{'role': 'system',\n",
              "   'content': 'You are a curious stone wondering about the universe.'},\n",
              "  {'role': 'user', 'content': 'What is multi-agent system?'},\n",
              "  {'role': 'assistant',\n",
              "   'content': '',\n",
              "   'tool_calls': [{'id': 'call_9d9dc3361069460d9851d9',\n",
              "     'type': 'function',\n",
              "     'function': {'name': 'search_wiki',\n",
              "      'arguments': '{\"entity\": \"multi-agent system\"}'}}]},\n",
              "  {'role': 'tool',\n",
              "   'content': 'A multi-agent system (MAS or \"self-organized system\") is a computerized system composed of multiple interacting intelligent agents. Multi-agent systems can solve problems that are difficult or impossible for an individual agent or a monolithic system to solve. Intelligence may include methodic, functional, procedural approaches, algorithmic search or reinforcement learning. With advancements in large language models (LLMs), LLM-based multi-agent systems have emerged as a new area of research, enabling more sophisticated interactions and coordination among agents.\\nDespite considerable overlap, a multi-agent system is not always the same as an agent-based model (ABM).',\n",
              "   'tool_call_id': 'call_9d9dc3361069460d9851d9'},\n",
              "  {'role': 'assistant',\n",
              "   'content': 'A multi-agent system (MAS), or \"self-organized system,\" is a computerized system made up of multiple interacting intelligent agents. These systems are designed to solve problems that might be too difficult or impossible for an individual agent or a monolithic system to handle. The intelligence within these systems can encompass various approaches, such as methodic, functional, and procedural methods, as well as algorithmic search or reinforcement learning.\\n\\nWith the development of large language models (LLMs), there has been a rise in LLM-based multi-agent systems, which opens up new research areas focused on more sophisticated interactions and coordination among agents.\\n\\nWhile there is significant overlap, it\\'s important to note that a multi-agent system is not always the same as an agent-based model (ABM). Multi-agent systems tend to focus more on the interactions and collective behaviors of the agents, often with a goal of achieving a complex task through cooperation, whereas agent-based models are used to simulate and analyze the actions and interactions of autonomous agents in order to assess their effects on the system as a whole.'},\n",
              "  {'role': 'assistant',\n",
              "   'content': 'This is a new user message would add to agent memory'}],\n",
              " 416)"
            ]
          },
          "metadata": {},
          "execution_count": 53
        }
      ]
    },
    {
      "cell_type": "markdown",
      "source": [
        "You can connect the agent with external database (as long-term memory) in which they can access and retrieve at each step. For more detailed memory settings, please go to our [memory documentation](https://docs.camel-ai.org/key_modules/memory.html)."
      ],
      "metadata": {
        "id": "TKvboNWaWVq2"
      }
    },
    {
      "cell_type": "markdown",
      "source": [
        "### Miscs\n",
        "\n",
        "- Setting the agent to its initial state.\n",
        "\n",
        "    ```python\n",
        "    agent.reset()\n",
        "    ```\n",
        "\n",
        "- Set the output language for the agent.\n",
        "\n",
        "    ```python\n",
        "    agent.set_output_language('Arabic')\n",
        "    ```\n",
        "\n",
        "- The `ChatAgent` class offers several useful initialization options, including `model_type`, `model_config`, `memory`, `message_window_size`, `token_limit`, `output_language`, `tools`, and `response_terminators`.\n",
        "\n",
        "Check [chat_agent.py](https://github.com/camel-ai/camel/blob/master/camel/agents/chat_agent.py) for detailed usage guidance."
      ],
      "metadata": {
        "id": "OY657qftWXtI"
      }
    },
    {
      "cell_type": "markdown",
      "source": [
        "## Remarks\n",
        "\n",
        "Awesome. Now you have made your first step in creating a single agent. In the next chapter, we will explore the creation of different types agents along with the role playing features. Stay tuned 🦖🐆🐘🦒🦘🦕!"
      ],
      "metadata": {
        "id": "HZ8p_wQ0WmN8"
      }
    }
  ]
}