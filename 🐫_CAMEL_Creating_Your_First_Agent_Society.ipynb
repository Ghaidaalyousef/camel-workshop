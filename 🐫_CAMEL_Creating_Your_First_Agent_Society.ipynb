{
  "cells": [
    {
      "cell_type": "markdown",
      "metadata": {
        "id": "_nTMiZtBfNJs"
      },
      "source": [
        "# Creating Your First Agent Society"
      ]
    },
    {
      "cell_type": "markdown",
      "metadata": {
        "id": "MusY9BwU5MPO"
      },
      "source": [
        "You can also check this cookbook in colab [here](https://colab.research.google.com/drive/1cmWPxXEsyMbmjPhD2bWfHuhd_Uz6FaJQ?usp=sharing)"
      ]
    },
    {
      "cell_type": "markdown",
      "metadata": {
        "id": "wFlfaGrjVAUy"
      },
      "source": [
        "## Philosophical Bits\n",
        "\n",
        "\n",
        "\n",
        "> *What magical trick makes us intelligent? The trick is that there is no trick. The power of intelligence stems from our vast diversity, not from any single, perfect principle.*\n",
        ">\n",
        "> -- Marvin Minsky, The Society of Mind, p. 308\n",
        "\n",
        "In this section, we will take a spite of the task-oriented `RolyPlaying()` class. We design this in an instruction-following manner. The essence is that to solve a complex task, you can enable two communicative agents collabratively working together step by step to reach solutions. The main concepts include:\n",
        "\n",
        "- **Task**: a task can be as simple as an idea, initialized by an inception prompt.\n",
        "\n",
        "- **AI User**: the agent who is expected to provide instructions.\n",
        "\n",
        "- **AI Assistant**: the agent who is expected to respond with solutions that fulfills the instructions."
      ]
    },
    {
      "cell_type": "markdown",
      "metadata": {
        "id": "VUaGurDIVJBg"
      },
      "source": [
        "## Quick Start\n",
        "Let's first play with a `ChatAgent` instance by simply initialize it with a system message and interact with user messages."
      ]
    },
    {
      "cell_type": "markdown",
      "metadata": {
        "id": "u9NVFz-HVLXb"
      },
      "source": [
        "### 🕹 Step 0: Prepartions"
      ]
    },
    {
      "cell_type": "code",
      "execution_count": null,
      "metadata": {
        "id": "RiwfwyyLYYxo"
      },
      "outputs": [],
      "source": [
        "!pip install \"camel-ai==0.2.73\""
      ]
    },
    {
      "cell_type": "markdown",
      "metadata": {
        "id": "MyTTCe3IR_Lr"
      },
      "source": [
        "### Setting Up API Keys"
      ]
    },
    {
      "cell_type": "markdown",
      "metadata": {
        "id": "REqzgGL9SEaD"
      },
      "source": [
        "You'll need to set up your API keys for OpenAI."
      ]
    },
    {
      "cell_type": "code",
      "execution_count": null,
      "metadata": {
        "colab": {
          "base_uri": "https://localhost:8080/"
        },
        "id": "PNBFEXc-R-0s",
        "outputId": "52f4d327-72b3-4002-c355-7a0c37e67edb"
      },
      "outputs": [
        {
          "name": "stdout",
          "output_type": "stream",
          "text": [
            "Enter your API key: ··········\n"
          ]
        }
      ],
      "source": [
        "import os\n",
        "from getpass import getpass\n",
        "\n",
        "# Prompt for the API key securely\n",
        "qwen_api_key = getpass('Enter your API key: ')\n",
        "os.environ[\"QWEN_API_KEY\"] = qwen_api_key"
      ]
    },
    {
      "cell_type": "code",
      "execution_count": null,
      "metadata": {
        "id": "CmgKGeCxVON-"
      },
      "outputs": [],
      "source": [
        "# Import necessary classes\n",
        "from camel.societies import RolePlaying\n",
        "from camel.types import ModelType, ModelPlatformType\n",
        "from camel.configs import QwenConfig\n",
        "from camel.models import ModelFactory\n",
        "\n",
        "model = ModelFactory.create(\n",
        "    model_platform=ModelPlatformType.QWEN,\n",
        "    model_type=ModelType.QWEN_TURBO,\n",
        "    model_config_dict=QwenConfig().as_dict(),\n",
        ")"
      ]
    },
    {
      "cell_type": "markdown",
      "metadata": {
        "id": "Lef5LTRdVSsm"
      },
      "source": [
        "### 🕹 Step 1: Configure the Role-Playing Session\n"
      ]
    },
    {
      "cell_type": "markdown",
      "metadata": {
        "id": "WXibf_JkYdn0"
      },
      "source": [
        "#### Set the `Task` Arguments"
      ]
    },
    {
      "cell_type": "code",
      "execution_count": null,
      "metadata": {
        "id": "aX9wCqeTVXDh"
      },
      "outputs": [],
      "source": [
        "task_kwargs = {\n",
        "    'task_prompt': 'Develop a plan to TRAVEL to Saudi Arabia, let me know the top three must-visit historical sites and the best local food',\n",
        "    'with_task_specify': False,\n",
        "    'task_specify_agent_kwargs': {'model': model}\n",
        "}"
      ]
    },
    {
      "cell_type": "markdown",
      "metadata": {
        "id": "tXx13MmbYgFh"
      },
      "source": [
        "#### Set the `User` Arguments\n",
        "You may think the user as the `instruction sender`."
      ]
    },
    {
      "cell_type": "code",
      "execution_count": null,
      "metadata": {
        "id": "be-97ApoVdDf"
      },
      "outputs": [],
      "source": [
        "user_role_kwargs = {\n",
        "    'user_role_name': 'Curious Explorer',\n",
        "    'user_agent_kwargs': {'model': model}\n",
        "}"
      ]
    },
    {
      "cell_type": "markdown",
      "metadata": {
        "id": "zLJzupaMYm11"
      },
      "source": [
        "#### Set the `Assistant` Arguments\n",
        "Again, you may think the assistant as the `instruction executor`."
      ]
    },
    {
      "cell_type": "code",
      "execution_count": null,
      "metadata": {
        "id": "rfzyC54hYtVu"
      },
      "outputs": [],
      "source": [
        "assistant_role_kwargs = {\n",
        "    'assistant_role_name': 'Saudi Arabia Travel Expert',\n",
        "    'assistant_agent_kwargs': {'model': model}\n",
        "}"
      ]
    },
    {
      "cell_type": "markdown",
      "metadata": {
        "id": "j90-Y5ChV-iX"
      },
      "source": [
        "### Step 2: Kickstart Your Society\n",
        "Putting them altogether – your role-playing session is ready to go!"
      ]
    },
    {
      "cell_type": "code",
      "execution_count": null,
      "metadata": {
        "id": "yDiLpZ7CY1N_"
      },
      "outputs": [],
      "source": [
        "society = RolePlaying(\n",
        "    **task_kwargs,             # The task arguments\n",
        "    **user_role_kwargs,        # The instruction sender's arguments\n",
        "    **assistant_role_kwargs,   # The instruction receiver's arguments\n",
        ")"
      ]
    },
    {
      "cell_type": "markdown",
      "metadata": {
        "id": "kklmZh0iY6pY"
      },
      "source": [
        "### Step 3: Solving Tasks with Your Society\n",
        "Hold your bytes. Prior to our travel, let's define a small helper function."
      ]
    },
    {
      "cell_type": "code",
      "execution_count": null,
      "metadata": {
        "id": "VI6d62uVY6IZ"
      },
      "outputs": [],
      "source": [
        "def is_terminated(response):\n",
        "    \"\"\"\n",
        "    Give alerts when the session should be terminated.\n",
        "    \"\"\"\n",
        "    if response.terminated:\n",
        "        role = response.msg.role_type.name\n",
        "        reason = response.info['termination_reasons']\n",
        "        print(f'AI {role} terminated due to {reason}')\n",
        "\n",
        "    return response.terminated"
      ]
    },
    {
      "cell_type": "markdown",
      "metadata": {
        "id": "tTUlFZjVZCsz"
      },
      "source": [
        "Time to chart our course – writing a simple loop for our society to proceed:"
      ]
    },
    {
      "cell_type": "code",
      "execution_count": null,
      "metadata": {
        "id": "Bq8AiGEXZC9P"
      },
      "outputs": [],
      "source": [
        "from camel.utils import print_text_animated\n",
        "from colorama import Fore\n",
        "\n",
        "\n",
        "def run(society, round_limit: int=10):\n",
        "\n",
        "    # Get the initial message from the ai assistant to the ai user\n",
        "    input_msg = society.init_chat()\n",
        "\n",
        "    # Starting the interactive session\n",
        "    for _ in range(round_limit):\n",
        "\n",
        "        # Get the both responses for this round\n",
        "        assistant_response, user_response = society.step(input_msg)\n",
        "\n",
        "        # Check the termination condition\n",
        "        if is_terminated(assistant_response) or is_terminated(user_response):\n",
        "            break\n",
        "\n",
        "        # Get the results\n",
        "        print_text_animated(\n",
        "            Fore.BLUE + f'[AI User] {user_response.msg.content}.\\n \\n')\n",
        "        # Check if the task is end\n",
        "        if 'CAMEL_TASK_DONE' in user_response.msg.content:\n",
        "            break\n",
        "        print_text_animated(\n",
        "            Fore.GREEN + f'[AI Assistant] {assistant_response.msg.content}.\\n \\n')\n",
        "\n",
        "\n",
        "        # Get the input message for the next round\n",
        "        input_msg = assistant_response.msg\n",
        "\n",
        "    return None"
      ]
    },
    {
      "cell_type": "code",
      "execution_count": null,
      "metadata": {
        "colab": {
          "base_uri": "https://localhost:8080/"
        },
        "id": "DoJ2ZaWyZE57",
        "outputId": "a43e9813-4d80-4cb6-ac77-3508be349f1c"
      },
      "outputs": [
        {
          "name": "stdout",
          "output_type": "stream",
          "text": [
            "\u001b[34m[AI User] Instruction: What are the top three must-visit historical sites in Saudi Arabia?  \n",
            "Input: None.\n",
            " \n",
            "\u001b[32m[AI Assistant] Solution: The top three must-visit historical sites in Saudi Arabia are:\n",
            "\n",
            "1. **Al-Hijr (Madain Salih)** – This UNESCO World Heritage Site is one of the most significant archaeological treasures in the Middle East. It was the capital of the ancient Nabatean civilization, which also built Petra in Jordan. Al-Hijr features well-preserved rock-cut tombs, temples, and inscriptions, offering a glimpse into the lives of the Nabateans. The site is located in the Al-Qassim region and is a must-see for history enthusiasts.\n",
            "\n",
            "2. **Jabal Ithlib (Mount Athlab)** – Located in the Taif region, this mountain is home to ancient rock carvings and inscriptions that date back over 3,000 years. These inscriptions are written in the Old South Arabian script and provide valuable insights into the early civilizations that inhabited the area. The site is not as well-known as others but holds great historical significance.\n",
            "\n",
            "3. **Dariya Castle (Qal’at Dariya)** – Situated near the city of Buraidah in the Al-Qassim region, this 18th-century fortress is a remarkable example of traditional Saudi architecture. It was built by the Al Saud family and served as a military stronghold. The castle offers panoramic views of the surrounding desert and provides a unique perspective on the region's historical and cultural heritage.\n",
            "\n",
            "These sites offer a rich tapestry of Saudi Arabia's past and are essential stops for any traveler interested in the country's history.\n",
            "\n",
            "Next request..\n",
            " \n",
            "\u001b[34m[AI User] Instruction: What are the best local foods to try in Saudi Arabia?  \n",
            "Input: None.\n",
            " \n",
            "\u001b[32m[AI Assistant] Solution: Saudi Arabian cuisine is rich, diverse, and deeply rooted in tradition, offering a unique blend of flavors influenced by Bedouin culture and Middle Eastern culinary practices. Here are some of the best local foods to try:\n",
            "\n",
            "1. **Kabsa** – This is one of the most iconic dishes in Saudi Arabia. It's a fragrant rice dish cooked with chicken, lamb, or shrimp, along with a mix of spices such as saffron, cinnamon, and cardamom. Kabsa is often served during celebrations and special occasions, making it a must-try for any visitor.\n",
            "\n",
            "2. **Mandi** – A traditional Saudi dish that consists of slow-cooked meat (usually lamb or chicken) layered with fragrant rice and spices, all cooked in an underground pit called a \"tannur.\" The result is tender, flavorful meat and aromatic rice, typically served with pickles and flatbread.\n",
            "\n",
            "3. **Sambusak** – These are crispy, deep-fried pastries filled with meat, cheese, or vegetables. They are a popular snack or appetizer, often enjoyed with tea or alongside other dishes.\n",
            "\n",
            "4. **Thareed** – A traditional dish made from bread soaked in a spiced meat broth. It's a simple yet hearty meal that reflects the nomadic heritage of the Bedouins.\n",
            "\n",
            "5. **Dates and Arabic Coffee** – No meal in Saudi Arabia is complete without dates, which are a staple food and symbolize hospitality. They are often served with Arabic coffee (gahwa), a sweet, strong coffee brewed with cardamom and served in a small cup called a \"dallah.\"\n",
            "\n",
            "6. **Falafel and Hummus** – While not exclusive to Saudi Arabia, these vegetarian options are widely available and popular, especially in urban areas.\n",
            "\n",
            "These dishes provide a delicious insight into Saudi culture and are best experienced at local restaurants, family gatherings, or street vendors.\n",
            "\n",
            "Next request..\n",
            " \n",
            "\u001b[34m[AI User] Instruction: <CAMEL_TASK_DONE>  \n",
            "Input: None.\n",
            " \n"
          ]
        }
      ],
      "source": [
        "run(society)"
      ]
    }
  ],
  "metadata": {
    "colab": {
      "provenance": []
    },
    "kernelspec": {
      "display_name": "Python 3",
      "name": "python3"
    },
    "language_info": {
      "name": "python"
    }
  },
  "nbformat": 4,
  "nbformat_minor": 0
}
