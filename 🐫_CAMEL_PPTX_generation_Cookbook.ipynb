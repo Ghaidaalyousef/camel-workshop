{
  "cells": [
    {
      "cell_type": "markdown",
      "metadata": {
        "id": "k-xIA7Qjuiwu"
      },
      "source": [
        "# 🐫 📊 CAMEL-AI PPTXToolkit Cookbook\n",
        "\n",
        "This notebook shows you how to **automatically generate** and **assemble** professional PowerPoint decks using CAMEL-AI’s PPTXToolkit. You’ll learn how to:\n",
        "\n",
        "- Prompt an LLM to produce **fully structured JSON** for every slide  \n",
        "- Turn that JSON into a polished `.pptx` with **titles**, **bullets**, **step diagrams**, **tables**, and **images**  \n",
        "- Leverage **Markdown** styling (`bold`, `italic`) and **Pexels** image search via `img_keywords`  \n",
        "- Plug in your **own .pptx templates** (modern, boardroom, minimalist, etc.)  \n",
        "- Enjoy **auto-layout** selection for text, diagrams, and tables  \n",
        "\n",
        "<hr />\n",
        "\n",
        "## 🚥 Pipeline Overview\n",
        "\n",
        "1. **Single Agent: Content → JSON**  \n",
        "   - You send one prompt to the LLM  \n",
        "   - It returns a JSON list with:\n",
        "     - A **title slide** (`title`, `subtitle`)  \n",
        "     - At least one **step-by-step** slide (all bullets start with `>>`)  \n",
        "     - At least one **table** slide (`table`: `{headers, rows}`)  \n",
        "     - Two or more slides with meaningful `img_keywords`  \n",
        "     - All **bullet slides** using Markdown formatting  \n",
        "\n",
        "2. **PPTXToolkit: JSON → `.pptx`**  \n",
        "   - Pass that JSON into `PPTXToolkit.create_presentation(...)`  \n",
        "   - Renders slides with your chosen template, images via `img_keywords`, chevrons/pentagons, and tables  \n",
        "   - Outputs a ready-to-share PowerPoint file  \n",
        "\n",
        "---\n",
        "\n",
        "Ready to build your next deck? Let’s get started! 🎉  \n",
        "\n",
        "You can also check this cookbook in colab [here](https://colab.research.google.com/drive/1W_dsoq1jrO8A_TzwUxzAr4wFSWeXLmn7?usp=sharing)\n"
      ]
    },
    {
      "cell_type": "code",
      "execution_count": 6,
      "metadata": {
        "collapsed": true,
        "id": "kR2UeIHFUBMf"
      },
      "outputs": [
        {
          "name": "stdout",
          "output_type": "stream",
          "text": [
            "Requirement already satisfied: camel-ai==0.2.73 in /usr/local/python/3.12.1/lib/python3.12/site-packages (0.2.73)\n",
            "Requirement already satisfied: python-pptx in /usr/local/python/3.12.1/lib/python3.12/site-packages (1.0.2)\n",
            "Requirement already satisfied: colorama<0.5,>=0.4.6 in /home/codespace/.local/lib/python3.12/site-packages (from camel-ai==0.2.73) (0.4.6)\n",
            "Requirement already satisfied: docstring-parser<0.16,>=0.15 in /usr/local/python/3.12.1/lib/python3.12/site-packages (from camel-ai==0.2.73) (0.15)\n",
            "Requirement already satisfied: httpx<1.0.0dev,>=0.28.0 in /home/codespace/.local/lib/python3.12/site-packages (from camel-ai==0.2.73) (0.28.1)\n",
            "Requirement already satisfied: jsonschema<5,>=4 in /home/codespace/.local/lib/python3.12/site-packages (from camel-ai==0.2.73) (4.24.0)\n",
            "Requirement already satisfied: mcp>=1.3.0 in /usr/local/python/3.12.1/lib/python3.12/site-packages (from camel-ai==0.2.73) (1.12.2)\n",
            "Requirement already satisfied: openai<2,>=1.86.0 in /usr/local/python/3.12.1/lib/python3.12/site-packages (from camel-ai==0.2.73) (1.98.0)\n",
            "Requirement already satisfied: pillow<11.0.0,>=10.1.0 in /usr/local/python/3.12.1/lib/python3.12/site-packages (from camel-ai==0.2.73) (10.4.0)\n",
            "Requirement already satisfied: psutil<6,>=5.9.8 in /usr/local/python/3.12.1/lib/python3.12/site-packages (from camel-ai==0.2.73) (5.9.8)\n",
            "Requirement already satisfied: pydantic>=2.10.6 in /usr/local/python/3.12.1/lib/python3.12/site-packages (from camel-ai==0.2.73) (2.11.7)\n",
            "Requirement already satisfied: tiktoken<0.8,>=0.7.0 in /usr/local/python/3.12.1/lib/python3.12/site-packages (from camel-ai==0.2.73) (0.7.0)\n",
            "Requirement already satisfied: anyio in /home/codespace/.local/lib/python3.12/site-packages (from httpx<1.0.0dev,>=0.28.0->camel-ai==0.2.73) (4.9.0)\n",
            "Requirement already satisfied: certifi in /home/codespace/.local/lib/python3.12/site-packages (from httpx<1.0.0dev,>=0.28.0->camel-ai==0.2.73) (2025.7.9)\n",
            "Requirement already satisfied: httpcore==1.* in /home/codespace/.local/lib/python3.12/site-packages (from httpx<1.0.0dev,>=0.28.0->camel-ai==0.2.73) (1.0.9)\n",
            "Requirement already satisfied: idna in /home/codespace/.local/lib/python3.12/site-packages (from httpx<1.0.0dev,>=0.28.0->camel-ai==0.2.73) (3.10)\n",
            "Requirement already satisfied: h11>=0.16 in /home/codespace/.local/lib/python3.12/site-packages (from httpcore==1.*->httpx<1.0.0dev,>=0.28.0->camel-ai==0.2.73) (0.16.0)\n",
            "Requirement already satisfied: attrs>=22.2.0 in /home/codespace/.local/lib/python3.12/site-packages (from jsonschema<5,>=4->camel-ai==0.2.73) (25.3.0)\n",
            "Requirement already satisfied: jsonschema-specifications>=2023.03.6 in /home/codespace/.local/lib/python3.12/site-packages (from jsonschema<5,>=4->camel-ai==0.2.73) (2025.4.1)\n",
            "Requirement already satisfied: referencing>=0.28.4 in /home/codespace/.local/lib/python3.12/site-packages (from jsonschema<5,>=4->camel-ai==0.2.73) (0.36.2)\n",
            "Requirement already satisfied: rpds-py>=0.7.1 in /home/codespace/.local/lib/python3.12/site-packages (from jsonschema<5,>=4->camel-ai==0.2.73) (0.26.0)\n",
            "Requirement already satisfied: distro<2,>=1.7.0 in /usr/local/python/3.12.1/lib/python3.12/site-packages (from openai<2,>=1.86.0->camel-ai==0.2.73) (1.9.0)\n",
            "Requirement already satisfied: jiter<1,>=0.4.0 in /usr/local/python/3.12.1/lib/python3.12/site-packages (from openai<2,>=1.86.0->camel-ai==0.2.73) (0.10.0)\n",
            "Requirement already satisfied: sniffio in /home/codespace/.local/lib/python3.12/site-packages (from openai<2,>=1.86.0->camel-ai==0.2.73) (1.3.1)\n",
            "Requirement already satisfied: tqdm>4 in /usr/local/python/3.12.1/lib/python3.12/site-packages (from openai<2,>=1.86.0->camel-ai==0.2.73) (4.67.1)\n",
            "Requirement already satisfied: typing-extensions<5,>=4.11 in /home/codespace/.local/lib/python3.12/site-packages (from openai<2,>=1.86.0->camel-ai==0.2.73) (4.14.1)\n",
            "Requirement already satisfied: annotated-types>=0.6.0 in /usr/local/python/3.12.1/lib/python3.12/site-packages (from pydantic>=2.10.6->camel-ai==0.2.73) (0.7.0)\n",
            "Requirement already satisfied: pydantic-core==2.33.2 in /usr/local/python/3.12.1/lib/python3.12/site-packages (from pydantic>=2.10.6->camel-ai==0.2.73) (2.33.2)\n",
            "Requirement already satisfied: typing-inspection>=0.4.0 in /usr/local/python/3.12.1/lib/python3.12/site-packages (from pydantic>=2.10.6->camel-ai==0.2.73) (0.4.1)\n",
            "Requirement already satisfied: regex>=2022.1.18 in /usr/local/python/3.12.1/lib/python3.12/site-packages (from tiktoken<0.8,>=0.7.0->camel-ai==0.2.73) (2025.7.33)\n",
            "Requirement already satisfied: requests>=2.26.0 in /home/codespace/.local/lib/python3.12/site-packages (from tiktoken<0.8,>=0.7.0->camel-ai==0.2.73) (2.32.4)\n",
            "Requirement already satisfied: XlsxWriter>=0.5.7 in /usr/local/python/3.12.1/lib/python3.12/site-packages (from python-pptx) (3.2.5)\n",
            "Requirement already satisfied: lxml>=3.1.0 in /usr/local/python/3.12.1/lib/python3.12/site-packages (from python-pptx) (6.0.0)\n",
            "Requirement already satisfied: httpx-sse>=0.4 in /usr/local/python/3.12.1/lib/python3.12/site-packages (from mcp>=1.3.0->camel-ai==0.2.73) (0.4.1)\n",
            "Requirement already satisfied: pydantic-settings>=2.5.2 in /usr/local/python/3.12.1/lib/python3.12/site-packages (from mcp>=1.3.0->camel-ai==0.2.73) (2.10.1)\n",
            "Requirement already satisfied: python-multipart>=0.0.9 in /usr/local/python/3.12.1/lib/python3.12/site-packages (from mcp>=1.3.0->camel-ai==0.2.73) (0.0.20)\n",
            "Requirement already satisfied: sse-starlette>=1.6.1 in /usr/local/python/3.12.1/lib/python3.12/site-packages (from mcp>=1.3.0->camel-ai==0.2.73) (3.0.2)\n",
            "Requirement already satisfied: starlette>=0.27 in /usr/local/python/3.12.1/lib/python3.12/site-packages (from mcp>=1.3.0->camel-ai==0.2.73) (0.47.2)\n",
            "Requirement already satisfied: uvicorn>=0.23.1 in /usr/local/python/3.12.1/lib/python3.12/site-packages (from mcp>=1.3.0->camel-ai==0.2.73) (0.35.0)\n",
            "Requirement already satisfied: python-dotenv>=0.21.0 in /usr/local/python/3.12.1/lib/python3.12/site-packages (from pydantic-settings>=2.5.2->mcp>=1.3.0->camel-ai==0.2.73) (1.1.1)\n",
            "Requirement already satisfied: charset_normalizer<4,>=2 in /home/codespace/.local/lib/python3.12/site-packages (from requests>=2.26.0->tiktoken<0.8,>=0.7.0->camel-ai==0.2.73) (3.4.2)\n",
            "Requirement already satisfied: urllib3<3,>=1.21.1 in /home/codespace/.local/lib/python3.12/site-packages (from requests>=2.26.0->tiktoken<0.8,>=0.7.0->camel-ai==0.2.73) (2.5.0)\n",
            "Requirement already satisfied: click>=7.0 in /usr/local/python/3.12.1/lib/python3.12/site-packages (from uvicorn>=0.23.1->mcp>=1.3.0->camel-ai==0.2.73) (8.2.1)\n",
            "Note: you may need to restart the kernel to use updated packages.\n"
          ]
        }
      ],
      "source": [
        "%pip install camel-ai==0.2.73 python-pptx"
      ]
    },
    {
      "cell_type": "markdown",
      "metadata": {
        "id": "FIz0b9O_wqkW"
      },
      "source": [
        "## ⚙️ Configuration\n",
        "Set your API keys securely:"
      ]
    },
    {
      "cell_type": "code",
      "execution_count": 7,
      "metadata": {
        "colab": {
          "base_uri": "https://localhost:8080/"
        },
        "id": "HGpgR_XitX_B",
        "outputId": "9076eea2-61d9-4f09-feec-1a8a3d992ce4"
      },
      "outputs": [],
      "source": [
        "import os\n",
        "from getpass import getpass\n",
        "\n",
        "# Prompt for the API key securely\n",
        "os.environ[\"OPENAI_API_KEY\"] = getpass('Enter your API key: ')\n",
        "os.environ[\"PEXELS_API_KEY\"] = getpass(\"🔑 Enter your Pexels API key (leave blank if not using images): \")\n"
      ]
    },
    {
      "cell_type": "markdown",
      "metadata": {
        "id": "HtP_ej5CyUNT"
      },
      "source": [
        "## ✏️ Agent #1: Generate Structured JSON\n",
        "One single LLM call to produce exactly the JSON your toolkit expects."
      ]
    },
    {
      "cell_type": "code",
      "execution_count": 8,
      "metadata": {
        "id": "ClqLd4HKypTI"
      },
      "outputs": [],
      "source": [
        "import os, json\n",
        "from camel.agents import ChatAgent\n",
        "from camel.models import ModelFactory\n",
        "from camel.types import ModelPlatformType, ModelType\n",
        "\n",
        "def generate_slides_json(topic: str, slide_count: int) -> list:\n",
        "    # Build our strict prompt\n",
        "    prompt = f\"\"\"\n",
        "You are a world-class PowerPoint generator for CAMEL-AI's PPTXToolkit.\n",
        "\n",
        "Create a presentation about \"{topic}\" with exactly {slide_count + 1} slides (1 title + {slide_count} content).\n",
        "MANDATORY:\n",
        "1. First slide: title & subtitle.\n",
        "2. ≥1 step-by-step slide (all bullets start with \">>\").\n",
        "3. ≥1 table slide (with headers & rows).\n",
        "4. ≥2 slides with non-empty img_keywords (search terms only).\n",
        "5. Bullet slides use Markdown (**bold**, *italic*) in bullet_points.\n",
        "6. Output MUST BE raw JSON (list of dicts), no markdown fences or commentary.\n",
        "\n",
        "Example:\n",
        "[\n",
        "  {{\"title\":\"...\",\"subtitle\":\"...\"}},\n",
        "  {{\"heading\":\"...\",\"bullet_points\":[\"...\",\"...\"],\"img_keywords\":\"...\"}},\n",
        "  {{\"heading\":\"...\",\"bullet_points\":[\">> Step 1...\"],\"img_keywords\":\"...\"}},\n",
        "  {{\"heading\":\"...\",\"table\":{{\"headers\":[\"A\",\"B\"],\"rows\":[[\"1\",\"2\"],[\"3\",\"4\"]]}},\"img_keywords\":\"...\"}}\n",
        "]\n",
        "\"\"\"\n",
        "    agent = ChatAgent(\n",
        "        system_message=\"You strictly output valid JSON for PowerPoint slides.\",\n",
        "        model=ModelFactory.create(\n",
        "    model_platform=ModelPlatformType.OPENAI,\n",
        "    model_type=ModelType.GPT_4_1,\n",
        ")\n",
        "    )\n",
        "    resp = agent.step(prompt)\n",
        "    slides = json.loads(resp.msgs[0].content)\n",
        "    return slides\n"
      ]
    },
    {
      "cell_type": "markdown",
      "metadata": {
        "id": "z35CIla3zBF4"
      },
      "source": [
        "## 📦 Build & Save PPTX\n",
        "\n",
        "Local code uses PPTXToolkit to turn that JSON into a .pptx file:"
      ]
    },
    {
      "cell_type": "code",
      "execution_count": 9,
      "metadata": {
        "id": "QkURpvVUT9Rk"
      },
      "outputs": [],
      "source": [
        "from camel.toolkits.pptx_toolkit import PPTXToolkit\n",
        "\n",
        "def build_pptx(slides_json: list, out_name: str = \"presentation.pptx\") -> str:\n",
        "    kit = PPTXToolkit(working_directory=\".\")\n",
        "    kit.create_presentation(json.dumps(slides_json), out_name)\n",
        "    return out_name"
      ]
    },
    {
      "cell_type": "markdown",
      "metadata": {
        "id": "-WXOG-Hr1ibN"
      },
      "source": [
        "## 🔗 Run the Pipeline"
      ]
    },
    {
      "cell_type": "code",
      "execution_count": 10,
      "metadata": {
        "colab": {
          "base_uri": "https://localhost:8080/"
        },
        "id": "WnOXRacP1fbB",
        "outputId": "30b1fc85-58d3-45cf-f27d-8f2e4dfdb9c3"
      },
      "outputs": [
        {
          "ename": "ValueError",
          "evalue": "invalid literal for int() with base 10: ''",
          "output_type": "error",
          "traceback": [
            "\u001b[31m---------------------------------------------------------------------------\u001b[39m",
            "\u001b[31mValueError\u001b[39m                                Traceback (most recent call last)",
            "\u001b[36mCell\u001b[39m\u001b[36m \u001b[39m\u001b[32mIn[10]\u001b[39m\u001b[32m, line 3\u001b[39m\n\u001b[32m      1\u001b[39m \u001b[38;5;28;01mif\u001b[39;00m \u001b[34m__name__\u001b[39m == \u001b[33m\"\u001b[39m\u001b[33m__main__\u001b[39m\u001b[33m\"\u001b[39m:\n\u001b[32m      2\u001b[39m     topic = \u001b[38;5;28minput\u001b[39m(\u001b[33m\"\u001b[39m\u001b[33m🎯 Topic: \u001b[39m\u001b[33m\"\u001b[39m)\n\u001b[32m----> \u001b[39m\u001b[32m3\u001b[39m     n = \u001b[38;5;28;43mint\u001b[39;49m\u001b[43m(\u001b[49m\u001b[38;5;28;43minput\u001b[39;49m\u001b[43m(\u001b[49m\u001b[33;43m\"\u001b[39;49m\u001b[33;43m📄 # of content slides: \u001b[39;49m\u001b[33;43m\"\u001b[39;49m\u001b[43m)\u001b[49m\u001b[43m)\u001b[49m\n\u001b[32m      4\u001b[39m     slides = generate_slides_json(topic, n)\n\u001b[32m      5\u001b[39m     filename = \u001b[33mf\u001b[39m\u001b[33m\"\u001b[39m\u001b[38;5;132;01m{\u001b[39;00mtopic.replace(\u001b[33m'\u001b[39m\u001b[33m \u001b[39m\u001b[33m'\u001b[39m,\u001b[33m'\u001b[39m\u001b[33m_\u001b[39m\u001b[33m'\u001b[39m)\u001b[38;5;132;01m}\u001b[39;00m\u001b[33m.pptx\u001b[39m\u001b[33m\"\u001b[39m\n",
            "\u001b[31mValueError\u001b[39m: invalid literal for int() with base 10: ''"
          ]
        }
      ],
      "source": [
        "if __name__ == \"__main__\":\n",
        "    topic = input(\"🎯 Topic: \")\n",
        "    n = int(input(\"📄 # of content slides: \"))\n",
        "    slides = generate_slides_json(topic, n)\n",
        "    filename = f\"{topic.replace(' ','_')}.pptx\"\n",
        "    path = build_pptx(slides, out_name=filename)\n",
        "    print(f\"✅ Deck saved to: {path}\")\n"
      ]
    }
  ],
  "metadata": {
    "colab": {
      "provenance": []
    },
    "kernelspec": {
      "display_name": "Python 3",
      "name": "python3"
    },
    "language_info": {
      "codemirror_mode": {
        "name": "ipython",
        "version": 3
      },
      "file_extension": ".py",
      "mimetype": "text/x-python",
      "name": "python",
      "nbconvert_exporter": "python",
      "pygments_lexer": "ipython3",
      "version": "3.12.1"
    }
  },
  "nbformat": 4,
  "nbformat_minor": 0
}
