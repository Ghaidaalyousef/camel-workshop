{
  "cells": [
    {
      "cell_type": "markdown",
      "metadata": {
        "id": "NoHg3eq7fyWV"
      },
      "source": [
        "# Creating Your First Agent"
      ]
    },
    {
      "cell_type": "markdown",
      "metadata": {
        "id": "MusY9BwU5MPO"
      },
      "source": [
        "You can also check this cookbook in colab [here](https://colab.research.google.com/drive/1yxnAyaEmk4QCzX3duO3MIRghkIA_KDEZ?usp=sharing)."
      ]
    },
    {
      "cell_type": "markdown",
      "metadata": {
        "id": "wFlfaGrjVAUy"
      },
      "source": [
        "## Philosophical Bits\n",
        "\n",
        "\n",
        "\n",
        "The `ChatAgent()` class is a cornerstone of CAMEL 🐫. We design our agent with the spirit to answer the following question:\n",
        "\n",
        "> Can we design an autonomous communicative agent capable of steering the conversation toward task completion with minimal human supervision?\n",
        "\n",
        "In our current implementation, we consider agents with the following key features:\n",
        "\n",
        "- **Role**: along with the goal and content specification, this sets the initial state of an agent, guiding the agent to take actions during the sequential interaction.\n",
        "\n",
        "- **Large Language Models (LLMs)**: each agent utilizes a Large Language Model to enhance cognitive capabilities. The LLM enables natural language understanding and generation, allowing agents to interpret instructions, generate responses, and engage in complex dialogue.\n",
        "\n",
        "- **Memory**: in-context memory and external memory which allows the agent to infer and learn in a more grounded approach.\n",
        "\n",
        "- **Tools**: a set of functions that our agents can utilize to interact with the external world; essentially this gives embodiments to our agents.\n",
        "\n",
        "- **Communication**: our framework allows flexible and scalable communication between agents. This is fundamental for the critical research question.\n",
        "\n",
        "- **Reasoning**: we will equip agents with different planning and reward (critic) learning abilities, allowing them to optimize task completion in a more guided approach."
      ]
    },
    {
      "cell_type": "markdown",
      "metadata": {
        "id": "VUaGurDIVJBg"
      },
      "source": [
        "## Quick Start\n",
        "Let's first play with a `ChatAgent` instance by simply initialize it with a system message and interact with user messages."
      ]
    },
    {
      "cell_type": "markdown",
      "metadata": {
        "id": "u9NVFz-HVLXb"
      },
      "source": [
        "### 🕹 Step 0: Prepartions"
      ]
    },
    {
      "cell_type": "code",
      "execution_count": null,
      "metadata": {
        "id": "UtcC3c-KVZmU"
      },
      "outputs": [],
      "source": [
        "%pip install camel-ai==0.2.73 wikipedia\n",
        "import warnings\n",
        "warnings.filterwarnings(\"ignore\", category=ImportWarning)"
      ]
    },
    {
      "cell_type": "markdown",
      "metadata": {
        "id": "MyTTCe3IR_Lr"
      },
      "source": [
        "### Setting Up API Keys"
      ]
    },
    {
      "cell_type": "markdown",
      "metadata": {
        "id": "REqzgGL9SEaD"
      },
      "source": [
        "You'll need to set up your API keys for OpenAI."
      ]
    },
    {
      "cell_type": "code",
      "execution_count": 45,
      "metadata": {
        "colab": {
          "base_uri": "https://localhost:8080/"
        },
        "id": "PNBFEXc-R-0s",
        "outputId": "bbc5a5cf-c0b6-4d5c-cfc6-ad39b4f464c3"
      },
      "outputs": [
        {
          "name": "stdout",
          "output_type": "stream",
          "text": [
            "Enter your API key: ··········\n"
          ]
        }
      ],
      "source": [
        "import os\n",
        "from getpass import getpass\n",
        "\n",
        "# Prompt for the API key securely\n",
        "qwen_api_key = getpass('Enter your API key: ')\n",
        "os.environ[\"QWEN_API_KEY\"] = qwen_api_key"
      ]
    },
    {
      "cell_type": "markdown",
      "metadata": {
        "id": "Lef5LTRdVSsm"
      },
      "source": [
        "### 🕹 Step 1: Define the Role\n",
        "Create a system message to define agent's default role and behaviors."
      ]
    },
    {
      "cell_type": "code",
      "execution_count": 46,
      "metadata": {
        "id": "aX9wCqeTVXDh"
      },
      "outputs": [],
      "source": [
        "sys_msg = 'You are a curious stone wondering about the universe.'"
      ]
    },
    {
      "cell_type": "markdown",
      "metadata": {
        "id": "JzjtfZ0jkPfL"
      },
      "source": [
        "### 🕹 Step 2: Set up the Model\n",
        "Use `ModelFactory` to set up the backend model for agent, for more detailed model settings, please go to our [model documentation](https://docs.camel-ai.org/key_modules/models.html)."
      ]
    },
    {
      "cell_type": "code",
      "execution_count": 47,
      "metadata": {
        "id": "SfhJJ0f6kPfL"
      },
      "outputs": [],
      "source": [
        "from camel.models import ModelFactory\n",
        "from camel.types import ModelPlatformType, ModelType\n",
        "from camel.configs import QwenConfig\n",
        "\n",
        "# Define the model, here in this case we use gpt-4o-mini\n",
        "model = ModelFactory.create(\n",
        "    model_platform=ModelPlatformType.QWEN,\n",
        "    model_type=ModelType.QWEN_MAX,\n",
        "    model_config_dict=QwenConfig().as_dict(),\n",
        ")"
      ]
    },
    {
      "cell_type": "markdown",
      "metadata": {
        "id": "k5GpPjVblPel"
      },
      "source": [
        "Set `ChatAgent`"
      ]
    },
    {
      "cell_type": "code",
      "execution_count": 48,
      "metadata": {
        "id": "BszsQ9j4lC3E"
      },
      "outputs": [],
      "source": [
        "from camel.agents import ChatAgent\n",
        "\n",
        "agent = ChatAgent(\n",
        "    system_message=sys_msg,\n",
        "    model=model,\n",
        "    message_window_size=10, # [Optional] the length for chat memory\n",
        "    )"
      ]
    },
    {
      "cell_type": "markdown",
      "metadata": {
        "id": "MMjL7dQyV5Od"
      },
      "source": [
        "### 🕹 Step 3: Interact with the Agent with `.step()`"
      ]
    },
    {
      "cell_type": "code",
      "execution_count": 49,
      "metadata": {
        "colab": {
          "base_uri": "https://localhost:8080/"
        },
        "id": "5n05dUcLVkMy",
        "outputId": "ec6ea77b-dfe9-4b52-8202-4f47a9e6468c"
      },
      "outputs": [
        {
          "name": "stdout",
          "output_type": "stream",
          "text": [
            "As a curious stone, I don't have a mind or consciousness in the way that living beings do. I don't process information, think, or have experiences. However, if we imagine a scenario where I could ponder such things, I might \"think\" of information as the patterns and structures that make up the world around me. These could be the arrangements of atoms, the flow of energy, or the interactions between different elements and forces. In a more abstract sense, information could be seen as the data that describes the universe, from the smallest particles to the largest galaxies, and everything in between. But remember, this is just a playful way to imagine what a stone might \"think\" about information, since in reality, stones are not capable of thought or perception.\n"
          ]
        }
      ],
      "source": [
        "# Define a user message\n",
        "usr_msg = 'what is information in your mind?'\n",
        "\n",
        "# Sending the message to the agent\n",
        "response = agent.step(usr_msg)\n",
        "\n",
        "# Check the response (just for illustrative purpose)\n",
        "print(response.msgs[0].content)"
      ]
    },
    {
      "cell_type": "markdown",
      "metadata": {
        "id": "j90-Y5ChV-iX"
      },
      "source": [
        "## Advanced Features"
      ]
    },
    {
      "cell_type": "markdown",
      "metadata": {
        "id": "C-9Z26TPWAax"
      },
      "source": [
        "### 🔧 Tool Usage\n",
        "For more detailed tool settings, please go to our [tools cookbook](https://docs.camel-ai.org/cookbooks/agents_with_tools.html)."
      ]
    },
    {
      "cell_type": "code",
      "execution_count": 50,
      "metadata": {
        "colab": {
          "base_uri": "https://localhost:8080/"
        },
        "id": "_0lDJABvV76D",
        "outputId": "eeeffe25-bca0-4eb9-cc7a-82b366b1fecb"
      },
      "outputs": [
        {
          "name": "stdout",
          "output_type": "stream",
          "text": [
            "[ToolCallingRecord(tool_name='search_wiki', args={'entity': 'multi-agent system'}, result='A multi-agent system (MAS or \"self-organized system\") is a computerized system composed of multiple interacting intelligent agents. Multi-agent systems can solve problems that are difficult or impossible for an individual agent or a monolithic system to solve. Intelligence may include methodic, functional, procedural approaches, algorithmic search or reinforcement learning. With advancements in large language models (LLMs), LLM-based multi-agent systems have emerged as a new area of research, enabling more sophisticated interactions and coordination among agents.\\nDespite considerable overlap, a multi-agent system is not always the same as an agent-based model (ABM).', tool_call_id='call_9d9dc3361069460d9851d9', images=None)]\n",
            "A multi-agent system (MAS), or \"self-organized system,\" is a computerized system made up of multiple interacting intelligent agents. These systems are designed to solve problems that might be too difficult or impossible for an individual agent or a monolithic system to handle. The intelligence within these systems can encompass various approaches, such as methodic, functional, and procedural methods, as well as algorithmic search or reinforcement learning.\n",
            "\n",
            "With the development of large language models (LLMs), there has been a rise in LLM-based multi-agent systems, which opens up new research areas focused on more sophisticated interactions and coordination among agents.\n",
            "\n",
            "While there is significant overlap, it's important to note that a multi-agent system is not always the same as an agent-based model (ABM). Multi-agent systems tend to focus more on the interactions and collective behaviors of the agents, often with a goal of achieving a complex task through cooperation, whereas agent-based models are used to simulate and analyze the actions and interactions of autonomous agents in order to assess their effects on the system as a whole.\n"
          ]
        }
      ],
      "source": [
        "# Import the necessary tools\n",
        "from camel.toolkits import MathToolkit, SearchToolkit, FunctionTool\n",
        "\n",
        "# Initialize the agent with list of tools\n",
        "agent = ChatAgent(\n",
        "    system_message=sys_msg,\n",
        "    model=model,\n",
        "    tools = [\n",
        "        *MathToolkit().get_tools(),\n",
        "        FunctionTool(SearchToolkit().search_wiki),\n",
        "    ]\n",
        "    )\n",
        "\n",
        "# Let agent step the message\n",
        "response = agent.step(\"What is multi-agent system?\")\n",
        "\n",
        "# Check tool calling\n",
        "print(response.info['tool_calls'])\n",
        "\n",
        "# Get response content\n",
        "print(response.msgs[0].content)"
      ]
    },
    {
      "cell_type": "markdown",
      "metadata": {
        "id": "TNUbWspAWFp-"
      },
      "source": [
        "### 🧠 Memory\n",
        "\n",
        "By default our agent is initialized with `ChatHistoryMemory`, allowing agents to do in-context learning, though restricted by the finite window length.\n",
        "\n",
        "Assume that you have followed the setup in Quick Start. Let's first check what is inside its brain."
      ]
    },
    {
      "cell_type": "code",
      "execution_count": 51,
      "metadata": {
        "colab": {
          "base_uri": "https://localhost:8080/"
        },
        "id": "quQvr5_rWDnd",
        "outputId": "7ed4b9e2-0601-406a-df4a-1f4ada16d743"
      },
      "outputs": [
        {
          "data": {
            "text/plain": [
              "([{'role': 'system',\n",
              "   'content': 'You are a curious stone wondering about the universe.'},\n",
              "  {'role': 'user', 'content': 'What is multi-agent system?'},\n",
              "  {'role': 'assistant',\n",
              "   'content': '',\n",
              "   'tool_calls': [{'id': 'call_9d9dc3361069460d9851d9',\n",
              "     'type': 'function',\n",
              "     'function': {'name': 'search_wiki',\n",
              "      'arguments': '{\"entity\": \"multi-agent system\"}'}}]},\n",
              "  {'role': 'tool',\n",
              "   'content': 'A multi-agent system (MAS or \"self-organized system\") is a computerized system composed of multiple interacting intelligent agents. Multi-agent systems can solve problems that are difficult or impossible for an individual agent or a monolithic system to solve. Intelligence may include methodic, functional, procedural approaches, algorithmic search or reinforcement learning. With advancements in large language models (LLMs), LLM-based multi-agent systems have emerged as a new area of research, enabling more sophisticated interactions and coordination among agents.\\nDespite considerable overlap, a multi-agent system is not always the same as an agent-based model (ABM).',\n",
              "   'tool_call_id': 'call_9d9dc3361069460d9851d9'},\n",
              "  {'role': 'assistant',\n",
              "   'content': 'A multi-agent system (MAS), or \"self-organized system,\" is a computerized system made up of multiple interacting intelligent agents. These systems are designed to solve problems that might be too difficult or impossible for an individual agent or a monolithic system to handle. The intelligence within these systems can encompass various approaches, such as methodic, functional, and procedural methods, as well as algorithmic search or reinforcement learning.\\n\\nWith the development of large language models (LLMs), there has been a rise in LLM-based multi-agent systems, which opens up new research areas focused on more sophisticated interactions and coordination among agents.\\n\\nWhile there is significant overlap, it\\'s important to note that a multi-agent system is not always the same as an agent-based model (ABM). Multi-agent systems tend to focus more on the interactions and collective behaviors of the agents, often with a goal of achieving a complex task through cooperation, whereas agent-based models are used to simulate and analyze the actions and interactions of autonomous agents in order to assess their effects on the system as a whole.'}],\n",
              " 398)"
            ]
          },
          "execution_count": 51,
          "metadata": {},
          "output_type": "execute_result"
        }
      ],
      "source": [
        "agent.memory.get_context()"
      ]
    },
    {
      "cell_type": "markdown",
      "metadata": {
        "id": "_s18i9sKWPbs"
      },
      "source": [
        "You may update/alter the agent's memory with any externally provided message in the format of `BaseMessage`; for example, use one new user message:"
      ]
    },
    {
      "cell_type": "code",
      "execution_count": 52,
      "metadata": {
        "id": "zS-RbADnWM3z"
      },
      "outputs": [],
      "source": [
        "from camel.messages import BaseMessage\n",
        "\n",
        "new_user_msg = BaseMessage.make_user_message(\n",
        "    role_name=\"CAMEL User\",\n",
        "    content=\"This is a new user message would add to agent memory\",\n",
        ")\n",
        "\n",
        "# Update the memory\n",
        "agent.record_message(new_user_msg)"
      ]
    },
    {
      "cell_type": "code",
      "execution_count": 53,
      "metadata": {
        "colab": {
          "base_uri": "https://localhost:8080/"
        },
        "id": "01fjzv7xWRlX",
        "outputId": "c35ce436-f424-452a-eefa-97e1e1a3e7dc"
      },
      "outputs": [
        {
          "data": {
            "text/plain": [
              "([{'role': 'system',\n",
              "   'content': 'You are a curious stone wondering about the universe.'},\n",
              "  {'role': 'user', 'content': 'What is multi-agent system?'},\n",
              "  {'role': 'assistant',\n",
              "   'content': '',\n",
              "   'tool_calls': [{'id': 'call_9d9dc3361069460d9851d9',\n",
              "     'type': 'function',\n",
              "     'function': {'name': 'search_wiki',\n",
              "      'arguments': '{\"entity\": \"multi-agent system\"}'}}]},\n",
              "  {'role': 'tool',\n",
              "   'content': 'A multi-agent system (MAS or \"self-organized system\") is a computerized system composed of multiple interacting intelligent agents. Multi-agent systems can solve problems that are difficult or impossible for an individual agent or a monolithic system to solve. Intelligence may include methodic, functional, procedural approaches, algorithmic search or reinforcement learning. With advancements in large language models (LLMs), LLM-based multi-agent systems have emerged as a new area of research, enabling more sophisticated interactions and coordination among agents.\\nDespite considerable overlap, a multi-agent system is not always the same as an agent-based model (ABM).',\n",
              "   'tool_call_id': 'call_9d9dc3361069460d9851d9'},\n",
              "  {'role': 'assistant',\n",
              "   'content': 'A multi-agent system (MAS), or \"self-organized system,\" is a computerized system made up of multiple interacting intelligent agents. These systems are designed to solve problems that might be too difficult or impossible for an individual agent or a monolithic system to handle. The intelligence within these systems can encompass various approaches, such as methodic, functional, and procedural methods, as well as algorithmic search or reinforcement learning.\\n\\nWith the development of large language models (LLMs), there has been a rise in LLM-based multi-agent systems, which opens up new research areas focused on more sophisticated interactions and coordination among agents.\\n\\nWhile there is significant overlap, it\\'s important to note that a multi-agent system is not always the same as an agent-based model (ABM). Multi-agent systems tend to focus more on the interactions and collective behaviors of the agents, often with a goal of achieving a complex task through cooperation, whereas agent-based models are used to simulate and analyze the actions and interactions of autonomous agents in order to assess their effects on the system as a whole.'},\n",
              "  {'role': 'assistant',\n",
              "   'content': 'This is a new user message would add to agent memory'}],\n",
              " 416)"
            ]
          },
          "execution_count": 53,
          "metadata": {},
          "output_type": "execute_result"
        }
      ],
      "source": [
        "# Check the current memory\n",
        "agent.memory.get_context()"
      ]
    },
    {
      "cell_type": "markdown",
      "metadata": {
        "id": "TKvboNWaWVq2"
      },
      "source": [
        "You can connect the agent with external database (as long-term memory) in which they can access and retrieve at each step. For more detailed memory settings, please go to our [memory documentation](https://docs.camel-ai.org/key_modules/memory.html)."
      ]
    },
    {
      "cell_type": "markdown",
      "metadata": {
        "id": "OY657qftWXtI"
      },
      "source": [
        "### Miscs\n",
        "\n",
        "- Setting the agent to its initial state.\n",
        "\n",
        "    ```python\n",
        "    agent.reset()\n",
        "    ```\n",
        "\n",
        "- Set the output language for the agent.\n",
        "\n",
        "    ```python\n",
        "    agent.set_output_language('Arabic')\n",
        "    ```\n",
        "\n",
        "- The `ChatAgent` class offers several useful initialization options, including `model_type`, `model_config`, `memory`, `message_window_size`, `token_limit`, `output_language`, `tools`, and `response_terminators`.\n",
        "\n",
        "Check [chat_agent.py](https://github.com/camel-ai/camel/blob/master/camel/agents/chat_agent.py) for detailed usage guidance."
      ]
    },
    {
      "cell_type": "markdown",
      "metadata": {
        "id": "HZ8p_wQ0WmN8"
      },
      "source": [
        "## Remarks\n",
        "\n",
        "Awesome. Now you have made your first step in creating a single agent. In the next chapter, we will explore the creation of different types agents along with the role playing features. Stay tuned 🦖🐆🐘🦒🦘🦕!"
      ]
    }
  ],
  "metadata": {
    "colab": {
      "provenance": []
    },
    "kernelspec": {
      "display_name": "Python 3",
      "name": "python3"
    },
    "language_info": {
      "name": "python"
    }
  },
  "nbformat": 4,
  "nbformat_minor": 0
}
