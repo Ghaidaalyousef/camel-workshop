{
 "cells": [
  {
   "cell_type": "markdown",
   "id": "b440775f",
   "metadata": {},
   "source": [
    "# Mem0 Cloud Memory Toolkit with CAMEL AI\n",
    "\n",
    "**Persistent Memory Management for AI Agents using Mem0 Cloud Storage**\n",
    "\n",
    "You can also check this cookbook in Colab. [CAMEL Homepage](https://www.camel-ai.org/) | [Join Discord](https://discord.gg/CNcNpquyDc) | ⭐ [Star us on GitHub](https://github.com/camel-ai/camel)\n",
    "\n",
    "This notebook demonstrates how to build an AI agent with persistent memory capabilities using CAMEL AI and Mem0's cloud storage. In this notebook, you'll explore:\n",
    "\n",
    "- **CAMEL AI**: A powerful multi-agent framework enabling sophisticated AI-driven tasks with memory management\n",
    "- **Mem0 Cloud**: Cloud-based persistent memory storage with semantic search capabilities  \n",
    "- **Memory Toolkit**: A custom toolkit for adding, retrieving, searching, and managing memories\n",
    "- **Interactive Agent**: A conversational agent that remembers past interactions across sessions\n",
    "\n",
    "This setup provides a practical foundation for building AI agents that can maintain context and learn from previous conversations."
   ]
  },
  {
   "cell_type": "markdown",
   "id": "8698b5e6",
   "metadata": {},
   "source": [
    "## 📦 Installation\n",
    "\n",
    "First, install the required packages:"
   ]
  },
  {
   "cell_type": "code",
   "execution_count": null,
   "id": "8d9c42f0",
   "metadata": {},
   "outputs": [],
   "source": [
    "!pip install camel-ai mem0ai rich"
   ]
  },
  {
   "cell_type": "markdown",
   "id": "17b60e8a",
   "metadata": {},
   "source": [
    "## 📥 Download the Toolkit\n",
    "\n",
    "You'll need the custom Mem0 toolkit. Download or create the `mem0_tools.py` file:\n"
   ]
  },
  {
   "cell_type": "code",
   "execution_count": 1,
   "id": "79896969",
   "metadata": {},
   "outputs": [
    {
     "name": "stdout",
     "output_type": "stream",
     "text": [
      "✅ Mem0 toolkit found!\n"
     ]
    }
   ],
   "source": [
    "# Download the toolkit file (replace with your actual download method)\n",
    "# For this demo, we assume you have the mem0_tools.py file in your working directory\n",
    "\n",
    "# Verify the file exists\n",
    "import os\n",
    "if os.path.exists('mem0_tools.py'):\n",
    "    print(\"✅ Mem0 toolkit found!\")\n",
    "else:\n",
    "    print(\"❌ Please ensure mem0_tools.py is in your working directory\")"
   ]
  },
  {
   "cell_type": "markdown",
   "id": "572976e1",
   "metadata": {},
   "source": [
    "The toolkit provides these key capabilities:\n",
    "- **Add Memory**: Store information with optional metadata\n",
    "- **Retrieve Memories**: Get all stored memories \n",
    "- **Search Memories**: Semantic search with vector matching\n",
    "- **Delete Memories**: Clear stored memories\n",
    "\n",
    "## 🔑 Setting Up API Keys\n",
    "\n",
    "You'll need API keys for both Mem0 and your chosen LLM provider (Gemini in this example):"
   ]
  },
  {
   "cell_type": "code",
   "execution_count": 2,
   "id": "b9971743",
   "metadata": {},
   "outputs": [],
   "source": [
    "import os\n",
    "from getpass import getpass\n",
    "\n",
    "# Set up Mem0 API key\n",
    "mem0_api_key = getpass('Enter your Mem0 API key: ')\n",
    "os.environ[\"MEM0_API_KEY\"] = mem0_api_key\n",
    "\n",
    "# Set up Gemini API key\n",
    "gemini_api_key = getpass('Enter your Gemini API key: ')\n",
    "os.environ[\"GEMINI_API_KEY\"] = gemini_api_key"
   ]
  },
  {
   "cell_type": "markdown",
   "id": "9a5f16c0",
   "metadata": {},
   "source": [
    "You can obtain:\n",
    "- **Mem0 API Key**: Sign up at [mem0.ai](https://mem0.ai)\n",
    "- **Gemini API Key**: Get it from [Google AI Studio](https://aistudio.google.com/app/apikey)\n",
    "\n",
    "Alternatively, if running on Colab, you can save your API keys as Colab Secrets:"
   ]
  },
  {
   "cell_type": "code",
   "execution_count": 3,
   "id": "c6e4d503",
   "metadata": {},
   "outputs": [],
   "source": [
    "# import os\n",
    "# from google.colab import userdata\n",
    "\n",
    "# os.environ[\"MEM0_API_KEY\"] = userdata.get(\"MEM0_API_KEY\")\n",
    "# os.environ[\"GEMINI_API_KEY\"] = userdata.get(\"GEMINI_API_KEY\")"
   ]
  },
  {
   "cell_type": "markdown",
   "id": "070976dc",
   "metadata": {},
   "source": [
    "## 🛠️ Import the Mem0 Cloud Toolkit\n",
    "\n",
    "Now let's import our custom toolkit that interfaces with Mem0's cloud storage:"
   ]
  },
  {
   "cell_type": "code",
   "execution_count": 4,
   "id": "ff56acb5",
   "metadata": {},
   "outputs": [
    {
     "name": "stdout",
     "output_type": "stream",
     "text": [
      "✅ Mem0CloudToolkit imported successfully!\n"
     ]
    }
   ],
   "source": [
    "# Import the custom Mem0 toolkit\n",
    "from mem0_tools import Mem0CloudToolkit\n",
    "\n",
    "# The toolkit provides 4 main methods:\n",
    "# - add_memory(content, metadata=None): Store new information\n",
    "# - retrieve_memories(): Get all stored memories  \n",
    "# - search_memories(query): Semantic search for relevant memories\n",
    "# - delete_memories(): Clear all stored memories\n",
    "\n",
    "print(\"✅ Mem0CloudToolkit imported successfully!\")"
   ]
  },
  {
   "cell_type": "markdown",
   "id": "c9c7ce83",
   "metadata": {},
   "source": [
    "## 🤖 Building the Memory-Enabled Agent\n",
    "\n",
    "Now let's create an interactive agent that uses our Mem0 toolkit:"
   ]
  },
  {
   "cell_type": "code",
   "execution_count": null,
   "id": "299583d9",
   "metadata": {},
   "outputs": [
    {
     "data": {
      "text/html": [
       "<pre style=\"white-space:pre;overflow-x:auto;line-height:normal;font-family:Menlo,'DejaVu Sans Mono',consolas,'Courier New',monospace\"><span style=\"color: #7f7f7f; text-decoration-color: #7f7f7f\">Using agent_id: demo-agent, user_id: demo-user</span>\n",
       "</pre>\n"
      ],
      "text/plain": [
       "\u001b[2mUsing agent_id: demo-agent, user_id: demo-user\u001b[0m\n"
      ]
     },
     "metadata": {},
     "output_type": "display_data"
    },
    {
     "data": {
      "text/html": [
       "<pre style=\"white-space:pre;overflow-x:auto;line-height:normal;font-family:Menlo,'DejaVu Sans Mono',consolas,'Courier New',monospace\"><span style=\"color: #008000; text-decoration-color: #008000; font-weight: bold\">🧠 Mem0 Cloud Agent is ready!</span>\n",
       "</pre>\n"
      ],
      "text/plain": [
       "\u001b[1;32m🧠 Mem0 Cloud Agent is ready!\u001b[0m\n"
      ]
     },
     "metadata": {},
     "output_type": "display_data"
    }
   ],
   "source": [
    "import os\n",
    "from rich import print as rprint\n",
    "from camel.agents import ChatAgent\n",
    "from camel.messages import BaseMessage\n",
    "from camel.models import ModelFactory\n",
    "from camel.types import ModelPlatformType, ModelType\n",
    "\n",
    "# Set up agent and user IDs\n",
    "agent_id = \"demo-agent\"\n",
    "user_id = \"demo-user\"\n",
    "rprint(f\"[dim]Using agent_id: {agent_id}, user_id: {user_id}[/dim]\")\n",
    "\n",
    "# Initialize the Mem0 toolkit and get tools\n",
    "toolkit = Mem0CloudToolkit(agent_id=agent_id, user_id=user_id)\n",
    "tools = toolkit.get_tools()\n",
    "\n",
    "# Create the language model\n",
    "model = ModelFactory.create(\n",
    "    model_platform=ModelPlatformType.OPENAI,\n",
    "    model_type=ModelType.GPT_4_1,\n",
    ")\n",
    "\n",
    "# Configure the agent system message\n",
    "system_message = (\n",
    "    \"You are a helpful memory assistant that manages memories using Mem0 cloud storage. \"\n",
    "    \"When you use a tool, always explain what you did conversationally. \"\n",
    "    \"For example: 'I've stored that information!' or 'Here's what I found in your memories:' \"\n",
    "    \"Always be friendly and explain the memory operation you performed.\"\n",
    ")\n",
    "\n",
    "sys_msg = BaseMessage.make_assistant_message(\n",
    "    role_name=\"Memory Master\",\n",
    "    content=system_message,\n",
    ")\n",
    "\n",
    "# Create the agent\n",
    "agent = ChatAgent(sys_msg, model=model, tools=tools)\n",
    "\n",
    "rprint(\"[bold green]🧠 Mem0 Cloud Agent is ready![/bold green]\")"
   ]
  },
  {
   "cell_type": "markdown",
   "id": "f7143a77",
   "metadata": {},
   "source": [
    "## 🎯 Interactive Mode\n",
    "\n",
    "For a full interactive experience with your memory-enabled agent:"
   ]
  },
  {
   "cell_type": "code",
   "execution_count": 12,
   "id": "4a839f76",
   "metadata": {},
   "outputs": [
    {
     "data": {
      "text/html": [
       "<pre style=\"white-space:pre;overflow-x:auto;line-height:normal;font-family:Menlo,'DejaVu Sans Mono',consolas,'Courier New',monospace\"><span style=\"color: #008000; text-decoration-color: #008000; font-weight: bold\">🧠 Mem0 Cloud Agent is ready!</span>\n",
       "</pre>\n"
      ],
      "text/plain": [
       "\u001b[1;32m🧠 Mem0 Cloud Agent is ready!\u001b[0m\n"
      ]
     },
     "metadata": {},
     "output_type": "display_data"
    },
    {
     "data": {
      "text/html": [
       "<pre style=\"white-space:pre;overflow-x:auto;line-height:normal;font-family:Menlo,'DejaVu Sans Mono',consolas,'Courier New',monospace\"><span style=\"color: #7f7f7f; text-decoration-color: #7f7f7f\">Type </span><span style=\"color: #7fbf7f; text-decoration-color: #7fbf7f\">'exit'</span><span style=\"color: #7f7f7f; text-decoration-color: #7f7f7f\"> or </span><span style=\"color: #7fbf7f; text-decoration-color: #7fbf7f\">'quit'</span><span style=\"color: #7f7f7f; text-decoration-color: #7f7f7f\"> to end the conversation.</span>\n",
       "\n",
       "</pre>\n"
      ],
      "text/plain": [
       "\u001b[2mType \u001b[0m\u001b[2;32m'exit'\u001b[0m\u001b[2m or \u001b[0m\u001b[2;32m'quit'\u001b[0m\u001b[2m to end the conversation.\u001b[0m\n",
       "\n"
      ]
     },
     "metadata": {},
     "output_type": "display_data"
    },
    {
     "data": {
      "text/html": [
       "<pre style=\"white-space:pre;overflow-x:auto;line-height:normal;font-family:Menlo,'DejaVu Sans Mono',consolas,'Courier New',monospace\"><span style=\"color: #008000; text-decoration-color: #008000\">🤖 Agent:</span> I don't seem to have your name stored in my memories. Would you like to tell me what it is?\n",
       "</pre>\n"
      ],
      "text/plain": [
       "\u001b[32m🤖 Agent:\u001b[0m I don't seem to have your name stored in my memories. Would you like to tell me what it is?\n"
      ]
     },
     "metadata": {},
     "output_type": "display_data"
    },
    {
     "data": {
      "text/html": [
       "<pre style=\"white-space:pre;overflow-x:auto;line-height:normal;font-family:Menlo,'DejaVu Sans Mono',consolas,'Courier New',monospace\"><span style=\"color: #008000; text-decoration-color: #008000\">🤖 Agent:</span> I've stored that information! I'll remember that your name is CAMEL.\n",
       "</pre>\n"
      ],
      "text/plain": [
       "\u001b[32m🤖 Agent:\u001b[0m I've stored that information! I'll remember that your name is CAMEL.\n"
      ]
     },
     "metadata": {},
     "output_type": "display_data"
    },
    {
     "data": {
      "text/html": [
       "<pre style=\"white-space:pre;overflow-x:auto;line-height:normal;font-family:Menlo,'DejaVu Sans Mono',consolas,'Courier New',monospace\"><span style=\"color: #008000; text-decoration-color: #008000\">🤖 Agent:</span> I've stored that information! I'll remember that your favorite game is God of War.\n",
       "</pre>\n"
      ],
      "text/plain": [
       "\u001b[32m🤖 Agent:\u001b[0m I've stored that information! I'll remember that your favorite game is God of War.\n"
      ]
     },
     "metadata": {},
     "output_type": "display_data"
    },
    {
     "data": {
      "text/html": [
       "<pre style=\"white-space:pre;overflow-x:auto;line-height:normal;font-family:Menlo,'DejaVu Sans Mono',consolas,'Courier New',monospace\"><span style=\"color: #008000; text-decoration-color: #008000\">🤖 Agent:</span> Here are all the memories I have stored for you:\n",
       "\n",
       "*   Your favorite game is God of War\n",
       "*   Your name is CAMEL\n",
       "</pre>\n"
      ],
      "text/plain": [
       "\u001b[32m🤖 Agent:\u001b[0m Here are all the memories I have stored for you:\n",
       "\n",
       "*   Your favorite game is God of War\n",
       "*   Your name is CAMEL\n"
      ]
     },
     "metadata": {},
     "output_type": "display_data"
    },
    {
     "data": {
      "text/html": [
       "<pre style=\"white-space:pre;overflow-x:auto;line-height:normal;font-family:Menlo,'DejaVu Sans Mono',consolas,'Courier New',monospace\"><span style=\"color: #808000; text-decoration-color: #808000\">Goodbye! Your memories are safely stored in Mem0 cloud.</span>\n",
       "</pre>\n"
      ],
      "text/plain": [
       "\u001b[33mGoodbye! Your memories are safely stored in Mem0 cloud.\u001b[0m\n"
      ]
     },
     "metadata": {},
     "output_type": "display_data"
    }
   ],
   "source": [
    "# Start interactive chat mode\n",
    "rprint(\"[bold green]🧠 Mem0 Cloud Agent is ready![/bold green]\")\n",
    "rprint(\"[dim]Type 'exit' or 'quit' to end the conversation.[/dim]\\n\")\n",
    "\n",
    "while True:\n",
    "    try:\n",
    "        user_query = input(\"> \")\n",
    "        if user_query.lower() in [\"exit\", \"quit\"]:\n",
    "            rprint(\"[yellow]Goodbye! Your memories are safely stored in Mem0 cloud.[/yellow]\")\n",
    "            break\n",
    "\n",
    "        user_msg = BaseMessage.make_user_message(role_name=\"User\", content=user_query)\n",
    "        response = agent.step(user_msg)\n",
    "        \n",
    "        # Show the agent's response\n",
    "        rprint(f\"[green]🤖 Agent:[/green] {response.msg.content}\")\n",
    "        \n",
    "    except KeyboardInterrupt:\n",
    "        rprint(\"\\n[yellow]Goodbye![/yellow]\")\n",
    "        break\n"
   ]
  },
  {
   "cell_type": "markdown",
   "id": "c7ccee4e",
   "metadata": {},
   "source": [
    "## 🌟 Key Features\n",
    "\n",
    "This memory-enabled agent demonstrates several powerful capabilities:\n",
    "\n",
    "### 🧠 **Persistent Memory**\n",
    "- Memories are stored in Mem0's cloud infrastructure\n",
    "- Information persists across different chat sessions\n",
    "- Automatic memory organization by agent and user IDs\n",
    "\n",
    "### 🔍 **Semantic Search**\n",
    "- Find relevant memories using natural language queries\n",
    "- Vector-based semantic matching for better results\n",
    "- Advanced filtering and reranking for improved accuracy\n",
    "\n",
    "### 🛠️ **Memory Management Tools**\n",
    "- **Add Memory**: Store new information with optional metadata\n",
    "- **Retrieve Memories**: Get all stored memories for the user/agent\n",
    "- **Search Memories**: Find specific information using semantic search\n",
    "- **Delete Memories**: Clear all memories when needed\n",
    "\n",
    "### 🎯 **Example Use Cases**\n",
    "- **Personal Assistant**: Remember user preferences, appointments, and important information\n",
    "- **Customer Support**: Maintain context across multiple support sessions\n",
    "- **Learning Companion**: Track learning progress and past topics discussed\n",
    "- **Project Management**: Remember project details, deadlines, and team information\n",
    "\n",
    "## 🎮 Try It Yourself!\n",
    "\n",
    "Here are some example prompts to test with your agent:"
   ]
  },
  {
   "cell_type": "code",
   "execution_count": null,
   "id": "92368555",
   "metadata": {},
   "outputs": [],
   "source": [
    "# Example interactions you can try:\n",
    "example_prompts = [\n",
    "    \"Remember that I prefer meetings in the morning\",\n",
    "    \"My favorite programming language is Python\",\n",
    "    \"I'm working on a project called 'SmartHome Assistant'\",\n",
    "    \"What do you remember about my work preferences?\",\n",
    "    \"Search for information about programming languages\",\n",
    "    \"Tell me about my current projects\",\n",
    "]\n",
    "\n",
    "for prompt in example_prompts:\n",
    "    print(f\"Try: {prompt}\")"
   ]
  },
  {
   "cell_type": "markdown",
   "id": "b7ce41c6",
   "metadata": {},
   "source": [
    "## 🌟 Highlights\n",
    "\n",
    "This notebook has guided you through building a sophisticated AI agent with persistent memory capabilities. Key technologies utilized include:\n",
    "\n",
    "- **CAMEL AI**: A powerful multi-agent framework enabling memory-enhanced AI interactions\n",
    "- **Mem0 Cloud**: Cloud-based vector storage with semantic search capabilities\n",
    "- **Custom Toolkits**: Extensible toolkit architecture for adding new capabilities\n",
    "- **Rich UI**: Beautiful terminal output with the Rich library\n",
    "\n",
    "That's everything! Got questions about 🐫 CAMEL-AI? [Join us on Discord!](https://discord.gg/CNcNpquyDc) Whether you want to share feedback, explore the latest in multi-agent systems, get support, or connect with others on exciting projects, we'd love to have you in the community! 🤝 \n",
    "\n",
    "Check out some of our other work:\n",
    "- 🐫 [Creating Your First CAMEL Agent](https://colab.research.google.com/drive/1AzP33O8rnMW__7ocWJhVBXjKziJXPtim) (free Colab)\n",
    "- [Graph RAG Cookbook](https://colab.research.google.com/drive/1LhI-7a5JUhLXxAfNHzSfvV8uOPl-FLhp) (free Colab)\n",
    "- 🧑‍⚖️ [Create A Hackathon Judge Committee with Workforce](https://colab.research.google.com/drive/1XpWMxJZ7Kv6RCLaE9RjZH8jdQsyPLzEJ) (free Colab)\n",
    "- 🔥 [3 Ways to Ingest Data from Websites with Firecrawl & CAMEL](https://colab.research.google.com/drive/1eYTlHkgj9bGbI1d0vYpK0vMSdIlJNRq3) (free Colab)\n",
    "\n",
    "Thanks from everyone at 🐫 CAMEL-AI!\n",
    "\n",
    "[CAMEL Homepage](https://www.camel-ai.org/) | [Join Discord](https://discord.gg/CNcNpquyDc) | ⭐ [Star us on GitHub](https://github.com/camel-ai/camel)"
   ]
  }
 ],
 "metadata": {
  "kernelspec": {
   "display_name": "atreus",
   "language": "python",
   "name": "python3"
  },
  "language_info": {
   "codemirror_mode": {
    "name": "ipython",
    "version": 3
   },
   "file_extension": ".py",
   "mimetype": "text/x-python",
   "name": "python",
   "nbconvert_exporter": "python",
   "pygments_lexer": "ipython3",
   "version": "3.12.9"
  }
 },
 "nbformat": 4,
 "nbformat_minor": 5
}
