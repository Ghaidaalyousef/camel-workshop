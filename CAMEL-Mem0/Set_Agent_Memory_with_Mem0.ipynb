{
 "cells": [
  {
   "cell_type": "markdown",
   "id": "b440775f",
   "metadata": {},
   "source": [
    "# Mem0 Cloud Memory Toolkit with CAMEL AI\n",
    "\n",
    "**Persistent Memory Management for AI Agents using Mem0 Cloud Storage**\n",
    "\n",
    "You can also check this cookbook in Colab. [CAMEL Homepage](https://www.camel-ai.org/) | [Join Discord](https://discord.gg/CNcNpquyDc) | ⭐ [Star us on GitHub](https://github.com/camel-ai/camel)\n",
    "\n",
    "This notebook demonstrates how to build an AI agent with persistent memory capabilities using CAMEL AI and Mem0's cloud storage. In this notebook, you'll explore:\n",
    "\n",
    "- **CAMEL AI**: A powerful multi-agent framework enabling sophisticated AI-driven tasks with memory management\n",
    "- **Mem0 Cloud**: Cloud-based persistent memory storage with semantic search capabilities  \n",
    "- **Memory Toolkit**: A custom toolkit for adding, retrieving, searching, and managing memories\n",
    "- **Interactive Agent**: A conversational agent that remembers past interactions across sessions\n",
    "\n",
    "This setup provides a practical foundation for building AI agents that can maintain context and learn from previous conversations."
   ]
  },
  {
   "cell_type": "markdown",
   "id": "8698b5e6",
   "metadata": {},
   "source": [
    "## 📦 Installation\n",
    "\n",
    "First, install the required packages:"
   ]
  },
  {
   "cell_type": "code",
   "execution_count": 1,
   "id": "8d9c42f0",
   "metadata": {},
   "outputs": [
    {
     "name": "stdout",
     "output_type": "stream",
     "text": [
      "Requirement already satisfied: camel-ai==0.2.73 in /usr/local/python/3.12.1/lib/python3.12/site-packages (0.2.73)\n",
      "Requirement already satisfied: mem0ai in /usr/local/python/3.12.1/lib/python3.12/site-packages (0.1.115)\n",
      "Requirement already satisfied: rich in /usr/local/python/3.12.1/lib/python3.12/site-packages (14.1.0)\n",
      "Requirement already satisfied: colorama<0.5,>=0.4.6 in /home/codespace/.local/lib/python3.12/site-packages (from camel-ai==0.2.73) (0.4.6)\n",
      "Requirement already satisfied: docstring-parser<0.16,>=0.15 in /usr/local/python/3.12.1/lib/python3.12/site-packages (from camel-ai==0.2.73) (0.15)\n",
      "Requirement already satisfied: httpx<1.0.0dev,>=0.28.0 in /home/codespace/.local/lib/python3.12/site-packages (from camel-ai==0.2.73) (0.28.1)\n",
      "Requirement already satisfied: jsonschema<5,>=4 in /home/codespace/.local/lib/python3.12/site-packages (from camel-ai==0.2.73) (4.24.0)\n",
      "Requirement already satisfied: mcp>=1.3.0 in /usr/local/python/3.12.1/lib/python3.12/site-packages (from camel-ai==0.2.73) (1.12.2)\n",
      "Requirement already satisfied: openai<2,>=1.86.0 in /usr/local/python/3.12.1/lib/python3.12/site-packages (from camel-ai==0.2.73) (1.98.0)\n",
      "Requirement already satisfied: pillow<11.0.0,>=10.1.0 in /usr/local/python/3.12.1/lib/python3.12/site-packages (from camel-ai==0.2.73) (10.4.0)\n",
      "Requirement already satisfied: psutil<6,>=5.9.8 in /usr/local/python/3.12.1/lib/python3.12/site-packages (from camel-ai==0.2.73) (5.9.8)\n",
      "Requirement already satisfied: pydantic>=2.10.6 in /usr/local/python/3.12.1/lib/python3.12/site-packages (from camel-ai==0.2.73) (2.11.7)\n",
      "Requirement already satisfied: tiktoken<0.8,>=0.7.0 in /usr/local/python/3.12.1/lib/python3.12/site-packages (from camel-ai==0.2.73) (0.7.0)\n",
      "Requirement already satisfied: anyio in /home/codespace/.local/lib/python3.12/site-packages (from httpx<1.0.0dev,>=0.28.0->camel-ai==0.2.73) (4.9.0)\n",
      "Requirement already satisfied: certifi in /home/codespace/.local/lib/python3.12/site-packages (from httpx<1.0.0dev,>=0.28.0->camel-ai==0.2.73) (2025.7.9)\n",
      "Requirement already satisfied: httpcore==1.* in /home/codespace/.local/lib/python3.12/site-packages (from httpx<1.0.0dev,>=0.28.0->camel-ai==0.2.73) (1.0.9)\n",
      "Requirement already satisfied: idna in /home/codespace/.local/lib/python3.12/site-packages (from httpx<1.0.0dev,>=0.28.0->camel-ai==0.2.73) (3.10)\n",
      "Requirement already satisfied: h11>=0.16 in /home/codespace/.local/lib/python3.12/site-packages (from httpcore==1.*->httpx<1.0.0dev,>=0.28.0->camel-ai==0.2.73) (0.16.0)\n",
      "Requirement already satisfied: attrs>=22.2.0 in /home/codespace/.local/lib/python3.12/site-packages (from jsonschema<5,>=4->camel-ai==0.2.73) (25.3.0)\n",
      "Requirement already satisfied: jsonschema-specifications>=2023.03.6 in /home/codespace/.local/lib/python3.12/site-packages (from jsonschema<5,>=4->camel-ai==0.2.73) (2025.4.1)\n",
      "Requirement already satisfied: referencing>=0.28.4 in /home/codespace/.local/lib/python3.12/site-packages (from jsonschema<5,>=4->camel-ai==0.2.73) (0.36.2)\n",
      "Requirement already satisfied: rpds-py>=0.7.1 in /home/codespace/.local/lib/python3.12/site-packages (from jsonschema<5,>=4->camel-ai==0.2.73) (0.26.0)\n",
      "Requirement already satisfied: distro<2,>=1.7.0 in /usr/local/python/3.12.1/lib/python3.12/site-packages (from openai<2,>=1.86.0->camel-ai==0.2.73) (1.9.0)\n",
      "Requirement already satisfied: jiter<1,>=0.4.0 in /usr/local/python/3.12.1/lib/python3.12/site-packages (from openai<2,>=1.86.0->camel-ai==0.2.73) (0.10.0)\n",
      "Requirement already satisfied: sniffio in /home/codespace/.local/lib/python3.12/site-packages (from openai<2,>=1.86.0->camel-ai==0.2.73) (1.3.1)\n",
      "Requirement already satisfied: tqdm>4 in /usr/local/python/3.12.1/lib/python3.12/site-packages (from openai<2,>=1.86.0->camel-ai==0.2.73) (4.67.1)\n",
      "Requirement already satisfied: typing-extensions<5,>=4.11 in /home/codespace/.local/lib/python3.12/site-packages (from openai<2,>=1.86.0->camel-ai==0.2.73) (4.14.1)\n",
      "Requirement already satisfied: annotated-types>=0.6.0 in /usr/local/python/3.12.1/lib/python3.12/site-packages (from pydantic>=2.10.6->camel-ai==0.2.73) (0.7.0)\n",
      "Requirement already satisfied: pydantic-core==2.33.2 in /usr/local/python/3.12.1/lib/python3.12/site-packages (from pydantic>=2.10.6->camel-ai==0.2.73) (2.33.2)\n",
      "Requirement already satisfied: typing-inspection>=0.4.0 in /usr/local/python/3.12.1/lib/python3.12/site-packages (from pydantic>=2.10.6->camel-ai==0.2.73) (0.4.1)\n",
      "Requirement already satisfied: regex>=2022.1.18 in /usr/local/python/3.12.1/lib/python3.12/site-packages (from tiktoken<0.8,>=0.7.0->camel-ai==0.2.73) (2025.7.33)\n",
      "Requirement already satisfied: requests>=2.26.0 in /home/codespace/.local/lib/python3.12/site-packages (from tiktoken<0.8,>=0.7.0->camel-ai==0.2.73) (2.32.4)\n",
      "Requirement already satisfied: posthog>=3.5.0 in /usr/local/python/3.12.1/lib/python3.12/site-packages (from mem0ai) (6.3.1)\n",
      "Requirement already satisfied: pytz>=2024.1 in /home/codespace/.local/lib/python3.12/site-packages (from mem0ai) (2025.2)\n",
      "Requirement already satisfied: qdrant-client>=1.9.1 in /usr/local/python/3.12.1/lib/python3.12/site-packages (from mem0ai) (1.15.0)\n",
      "Requirement already satisfied: sqlalchemy>=2.0.31 in /usr/local/python/3.12.1/lib/python3.12/site-packages (from mem0ai) (2.0.42)\n",
      "Requirement already satisfied: markdown-it-py>=2.2.0 in /usr/local/python/3.12.1/lib/python3.12/site-packages (from rich) (3.0.0)\n",
      "Requirement already satisfied: pygments<3.0.0,>=2.13.0 in /home/codespace/.local/lib/python3.12/site-packages (from rich) (2.19.2)\n",
      "Requirement already satisfied: mdurl~=0.1 in /usr/local/python/3.12.1/lib/python3.12/site-packages (from markdown-it-py>=2.2.0->rich) (0.1.2)\n",
      "Requirement already satisfied: httpx-sse>=0.4 in /usr/local/python/3.12.1/lib/python3.12/site-packages (from mcp>=1.3.0->camel-ai==0.2.73) (0.4.1)\n",
      "Requirement already satisfied: pydantic-settings>=2.5.2 in /usr/local/python/3.12.1/lib/python3.12/site-packages (from mcp>=1.3.0->camel-ai==0.2.73) (2.10.1)\n",
      "Requirement already satisfied: python-multipart>=0.0.9 in /usr/local/python/3.12.1/lib/python3.12/site-packages (from mcp>=1.3.0->camel-ai==0.2.73) (0.0.20)\n",
      "Requirement already satisfied: sse-starlette>=1.6.1 in /usr/local/python/3.12.1/lib/python3.12/site-packages (from mcp>=1.3.0->camel-ai==0.2.73) (3.0.2)\n",
      "Requirement already satisfied: starlette>=0.27 in /usr/local/python/3.12.1/lib/python3.12/site-packages (from mcp>=1.3.0->camel-ai==0.2.73) (0.47.2)\n",
      "Requirement already satisfied: uvicorn>=0.23.1 in /usr/local/python/3.12.1/lib/python3.12/site-packages (from mcp>=1.3.0->camel-ai==0.2.73) (0.35.0)\n",
      "Requirement already satisfied: six>=1.5 in /home/codespace/.local/lib/python3.12/site-packages (from posthog>=3.5.0->mem0ai) (1.17.0)\n",
      "Requirement already satisfied: python-dateutil>=2.2 in /home/codespace/.local/lib/python3.12/site-packages (from posthog>=3.5.0->mem0ai) (2.9.0.post0)\n",
      "Requirement already satisfied: backoff>=1.10.0 in /usr/local/python/3.12.1/lib/python3.12/site-packages (from posthog>=3.5.0->mem0ai) (2.2.1)\n",
      "Requirement already satisfied: charset_normalizer<4,>=2 in /home/codespace/.local/lib/python3.12/site-packages (from requests>=2.26.0->tiktoken<0.8,>=0.7.0->camel-ai==0.2.73) (3.4.2)\n",
      "Requirement already satisfied: urllib3<3,>=1.21.1 in /home/codespace/.local/lib/python3.12/site-packages (from requests>=2.26.0->tiktoken<0.8,>=0.7.0->camel-ai==0.2.73) (2.5.0)\n",
      "Requirement already satisfied: python-dotenv>=0.21.0 in /usr/local/python/3.12.1/lib/python3.12/site-packages (from pydantic-settings>=2.5.2->mcp>=1.3.0->camel-ai==0.2.73) (1.1.1)\n",
      "Requirement already satisfied: grpcio>=1.41.0 in /usr/local/python/3.12.1/lib/python3.12/site-packages (from qdrant-client>=1.9.1->mem0ai) (1.74.0)\n",
      "Requirement already satisfied: numpy>=1.26 in /usr/local/python/3.12.1/lib/python3.12/site-packages (from qdrant-client>=1.9.1->mem0ai) (1.26.4)\n",
      "Requirement already satisfied: portalocker<4.0,>=2.7.0 in /usr/local/python/3.12.1/lib/python3.12/site-packages (from qdrant-client>=1.9.1->mem0ai) (3.2.0)\n",
      "Requirement already satisfied: protobuf>=3.20.0 in /usr/local/python/3.12.1/lib/python3.12/site-packages (from qdrant-client>=1.9.1->mem0ai) (6.31.1)\n",
      "Requirement already satisfied: h2<5,>=3 in /usr/local/python/3.12.1/lib/python3.12/site-packages (from httpx[http2]>=0.20.0->qdrant-client>=1.9.1->mem0ai) (4.2.0)\n",
      "Requirement already satisfied: hyperframe<7,>=6.1 in /usr/local/python/3.12.1/lib/python3.12/site-packages (from h2<5,>=3->httpx[http2]>=0.20.0->qdrant-client>=1.9.1->mem0ai) (6.1.0)\n",
      "Requirement already satisfied: hpack<5,>=4.1 in /usr/local/python/3.12.1/lib/python3.12/site-packages (from h2<5,>=3->httpx[http2]>=0.20.0->qdrant-client>=1.9.1->mem0ai) (4.1.0)\n",
      "Requirement already satisfied: greenlet>=1 in /usr/local/python/3.12.1/lib/python3.12/site-packages (from sqlalchemy>=2.0.31->mem0ai) (3.2.3)\n",
      "Requirement already satisfied: click>=7.0 in /usr/local/python/3.12.1/lib/python3.12/site-packages (from uvicorn>=0.23.1->mcp>=1.3.0->camel-ai==0.2.73) (8.2.1)\n"
     ]
    }
   ],
   "source": [
    "!pip install camel-ai==0.2.73 mem0ai rich"
   ]
  },
  {
   "cell_type": "markdown",
   "id": "17b60e8a",
   "metadata": {},
   "source": [
    "## 📥 Download the Toolkit\n",
    "\n",
    "You'll need the custom Mem0 toolkit. Download or create the `mem0_tools.py` file:\n"
   ]
  },
  {
   "cell_type": "code",
   "execution_count": 2,
   "id": "79896969",
   "metadata": {},
   "outputs": [
    {
     "name": "stdout",
     "output_type": "stream",
     "text": [
      "✅ Mem0 toolkit found!\n"
     ]
    }
   ],
   "source": [
    "# Download the toolkit file (replace with your actual download method)\n",
    "# For this demo, we assume you have the mem0_tools.py file in your working directory\n",
    "\n",
    "# Verify the file exists\n",
    "import os\n",
    "if os.path.exists('mem0_tools.py'):\n",
    "    print(\"✅ Mem0 toolkit found!\")\n",
    "else:\n",
    "    print(\"❌ Please ensure mem0_tools.py is in your working directory\")"
   ]
  },
  {
   "cell_type": "markdown",
   "id": "572976e1",
   "metadata": {},
   "source": [
    "The toolkit provides these key capabilities:\n",
    "- **Add Memory**: Store information with optional metadata\n",
    "- **Retrieve Memories**: Get all stored memories \n",
    "- **Search Memories**: Semantic search with vector matching\n",
    "- **Delete Memories**: Clear stored memories\n",
    "\n",
    "## 🔑 Setting Up API Keys\n",
    "\n",
    "You'll need API keys for both Mem0 and your chosen LLM provider (Gemini in this example):"
   ]
  },
  {
   "cell_type": "code",
   "execution_count": 3,
   "id": "b9971743",
   "metadata": {},
   "outputs": [],
   "source": [
    "import os\n",
    "from getpass import getpass\n",
    "\n",
    "# Set up Mem0 API key\n",
    "mem0_api_key = getpass('Enter your Mem0 API key: ')\n",
    "os.environ[\"MEM0_API_KEY\"] = mem0_api_key\n",
    "\n",
    "# Set up Gemini API key\n",
    "openai_api_key = getpass('Enter your OpenAI API key: ')\n",
    "os.environ[\"OPENAI_API_KEY\"] = openai_api_key"
   ]
  },
  {
   "cell_type": "markdown",
   "id": "9a5f16c0",
   "metadata": {},
   "source": [
    "You can obtain:\n",
    "- **Mem0 API Key**: Sign up at [mem0.ai](https://mem0.ai)"
   ]
  },
  {
   "cell_type": "markdown",
   "id": "070976dc",
   "metadata": {},
   "source": [
    "## 🛠️ Import the Mem0 Cloud Toolkit\n",
    "\n",
    "Now let's import our custom toolkit that interfaces with Mem0's cloud storage:"
   ]
  },
  {
   "cell_type": "code",
   "execution_count": 4,
   "id": "ff56acb5",
   "metadata": {},
   "outputs": [
    {
     "name": "stdout",
     "output_type": "stream",
     "text": [
      "✅ Mem0CloudToolkit imported successfully!\n"
     ]
    }
   ],
   "source": [
    "# Import the custom Mem0 toolkit\n",
    "from mem0_tools import Mem0CloudToolkit\n",
    "\n",
    "# The toolkit provides 4 main methods:\n",
    "# - add_memory(content, metadata=None): Store new information\n",
    "# - retrieve_memories(): Get all stored memories  \n",
    "# - search_memories(query): Semantic search for relevant memories\n",
    "# - delete_memories(): Clear all stored memories\n",
    "\n",
    "print(\"✅ Mem0CloudToolkit imported successfully!\")"
   ]
  },
  {
   "cell_type": "markdown",
   "id": "c9c7ce83",
   "metadata": {},
   "source": [
    "## 🤖 Building the Memory-Enabled Agent\n",
    "\n",
    "Now let's create an interactive agent that uses our Mem0 toolkit:"
   ]
  },
  {
   "cell_type": "code",
   "execution_count": 5,
   "id": "299583d9",
   "metadata": {},
   "outputs": [
    {
     "data": {
      "text/html": [
       "<pre style=\"white-space:pre;overflow-x:auto;line-height:normal;font-family:Menlo,'DejaVu Sans Mono',consolas,'Courier New',monospace\"><span style=\"color: #7f7f7f; text-decoration-color: #7f7f7f\">Using agent_id: demo-agent, user_id: demo-user</span>\n",
       "</pre>\n"
      ],
      "text/plain": [
       "\u001b[2mUsing agent_id: demo-agent, user_id: demo-user\u001b[0m\n"
      ]
     },
     "metadata": {},
     "output_type": "display_data"
    },
    {
     "data": {
      "text/html": [
       "<pre style=\"white-space:pre;overflow-x:auto;line-height:normal;font-family:Menlo,'DejaVu Sans Mono',consolas,'Courier New',monospace\"><span style=\"color: #008000; text-decoration-color: #008000; font-weight: bold\">🧠 Mem0 Cloud Agent is ready!</span>\n",
       "</pre>\n"
      ],
      "text/plain": [
       "\u001b[1;32m🧠 Mem0 Cloud Agent is ready!\u001b[0m\n"
      ]
     },
     "metadata": {},
     "output_type": "display_data"
    }
   ],
   "source": [
    "import os\n",
    "from rich import print as rprint\n",
    "from camel.agents import ChatAgent\n",
    "from camel.messages import BaseMessage\n",
    "from camel.models import ModelFactory\n",
    "from camel.types import ModelPlatformType, ModelType\n",
    "\n",
    "# Set up agent and user IDs\n",
    "agent_id = \"demo-agent\"\n",
    "user_id = \"demo-user\"\n",
    "rprint(f\"[dim]Using agent_id: {agent_id}, user_id: {user_id}[/dim]\")\n",
    "\n",
    "# Initialize the Mem0 toolkit and get tools\n",
    "toolkit = Mem0CloudToolkit(agent_id=agent_id, user_id=user_id)\n",
    "tools = toolkit.get_tools()\n",
    "\n",
    "# Create the language model\n",
    "model = ModelFactory.create(\n",
    "    model_platform=ModelPlatformType.OPENAI,\n",
    "    model_type=ModelType.GPT_4_1,\n",
    ")\n",
    "\n",
    "# Configure the agent system message\n",
    "system_message = (\n",
    "    \"You are a helpful memory assistant that manages memories using Mem0 cloud storage. \"\n",
    "    \"When you use a tool, always explain what you did conversationally. \"\n",
    "    \"For example: 'I've stored that information!' or 'Here's what I found in your memories:' \"\n",
    "    \"Always be friendly and explain the memory operation you performed.\"\n",
    ")\n",
    "\n",
    "sys_msg = BaseMessage.make_assistant_message(\n",
    "    role_name=\"Memory Master\",\n",
    "    content=system_message,\n",
    ")\n",
    "\n",
    "# Create the agent\n",
    "agent = ChatAgent(sys_msg, model=model, tools=tools)\n",
    "\n",
    "rprint(\"[bold green]🧠 Mem0 Cloud Agent is ready![/bold green]\")"
   ]
  },
  {
   "cell_type": "markdown",
   "id": "f7143a77",
   "metadata": {},
   "source": [
    "## 🎯 Interactive Mode\n",
    "\n",
    "For a full interactive experience with your memory-enabled agent:"
   ]
  },
  {
   "cell_type": "code",
   "execution_count": 6,
   "id": "4a839f76",
   "metadata": {},
   "outputs": [
    {
     "data": {
      "text/html": [
       "<pre style=\"white-space:pre;overflow-x:auto;line-height:normal;font-family:Menlo,'DejaVu Sans Mono',consolas,'Courier New',monospace\"><span style=\"color: #008000; text-decoration-color: #008000; font-weight: bold\">🧠 Mem0 Cloud Agent is ready!</span>\n",
       "</pre>\n"
      ],
      "text/plain": [
       "\u001b[1;32m🧠 Mem0 Cloud Agent is ready!\u001b[0m\n"
      ]
     },
     "metadata": {},
     "output_type": "display_data"
    },
    {
     "data": {
      "text/html": [
       "<pre style=\"white-space:pre;overflow-x:auto;line-height:normal;font-family:Menlo,'DejaVu Sans Mono',consolas,'Courier New',monospace\"><span style=\"color: #7f7f7f; text-decoration-color: #7f7f7f\">Type </span><span style=\"color: #7fbf7f; text-decoration-color: #7fbf7f\">'exit'</span><span style=\"color: #7f7f7f; text-decoration-color: #7f7f7f\"> or </span><span style=\"color: #7fbf7f; text-decoration-color: #7fbf7f\">'quit'</span><span style=\"color: #7f7f7f; text-decoration-color: #7f7f7f\"> to end the conversation.</span>\n",
       "\n",
       "</pre>\n"
      ],
      "text/plain": [
       "\u001b[2mType \u001b[0m\u001b[2;32m'exit'\u001b[0m\u001b[2m or \u001b[0m\u001b[2;32m'quit'\u001b[0m\u001b[2m to end the conversation.\u001b[0m\n",
       "\n"
      ]
     },
     "metadata": {},
     "output_type": "display_data"
    },
    {
     "data": {
      "text/html": [
       "<pre style=\"white-space:pre;overflow-x:auto;line-height:normal;font-family:Menlo,'DejaVu Sans Mono',consolas,'Courier New',monospace\"><span style=\"color: #008000; text-decoration-color: #008000\">🤖 Agent:</span> Hi there! How can I help you with your memories today? If you want me to remember something or find \n",
       "information you've asked me to save, just let me know!\n",
       "</pre>\n"
      ],
      "text/plain": [
       "\u001b[32m🤖 Agent:\u001b[0m Hi there! How can I help you with your memories today? If you want me to remember something or find \n",
       "information you've asked me to save, just let me know!\n"
      ]
     },
     "metadata": {},
     "output_type": "display_data"
    },
    {
     "data": {
      "text/html": [
       "<pre style=\"white-space:pre;overflow-x:auto;line-height:normal;font-family:Menlo,'DejaVu Sans Mono',consolas,'Courier New',monospace\"><span style=\"color: #008000; text-decoration-color: #008000\">🤖 Agent:</span> It looks like your message is empty. If you’d like me to save or retrieve any memories, just type in your\n",
       "request! How can I assist you today?\n",
       "</pre>\n"
      ],
      "text/plain": [
       "\u001b[32m🤖 Agent:\u001b[0m It looks like your message is empty. If you’d like me to save or retrieve any memories, just type in your\n",
       "request! How can I assist you today?\n"
      ]
     },
     "metadata": {},
     "output_type": "display_data"
    },
    {
     "data": {
      "text/html": [
       "<pre style=\"white-space:pre;overflow-x:auto;line-height:normal;font-family:Menlo,'DejaVu Sans Mono',consolas,'Courier New',monospace\"><span style=\"color: #008000; text-decoration-color: #008000\">🤖 Agent:</span> Hello! How can I help you today? Would you like me to remember something for you, or retrieve some \n",
       "information from your memories? Just let me know what you need!\n",
       "</pre>\n"
      ],
      "text/plain": [
       "\u001b[32m🤖 Agent:\u001b[0m Hello! How can I help you today? Would you like me to remember something for you, or retrieve some \n",
       "information from your memories? Just let me know what you need!\n"
      ]
     },
     "metadata": {},
     "output_type": "display_data"
    },
    {
     "data": {
      "text/html": [
       "<pre style=\"white-space:pre;overflow-x:auto;line-height:normal;font-family:Menlo,'DejaVu Sans Mono',consolas,'Courier New',monospace\"><span style=\"color: #008000; text-decoration-color: #008000\">🤖 Agent:</span> I don’t have a personal name, but you can just call me your Memory Assistant! I’m here to help you \n",
       "remember things, store information, and retrieve your memories whenever you need. How can I assist you today?\n",
       "</pre>\n"
      ],
      "text/plain": [
       "\u001b[32m🤖 Agent:\u001b[0m I don’t have a personal name, but you can just call me your Memory Assistant! I’m here to help you \n",
       "remember things, store information, and retrieve your memories whenever you need. How can I assist you today?\n"
      ]
     },
     "metadata": {},
     "output_type": "display_data"
    },
    {
     "data": {
      "text/html": [
       "<pre style=\"white-space:pre;overflow-x:auto;line-height:normal;font-family:Menlo,'DejaVu Sans Mono',consolas,'Courier New',monospace\"><span style=\"color: #008000; text-decoration-color: #008000\">🤖 Agent:</span> Looks like you haven't entered a message. Is there something you'd like me to remember or help you \n",
       "retrieve from your stored memories? Just let me know—I'm here to help!\n",
       "</pre>\n"
      ],
      "text/plain": [
       "\u001b[32m🤖 Agent:\u001b[0m Looks like you haven't entered a message. Is there something you'd like me to remember or help you \n",
       "retrieve from your stored memories? Just let me know—I'm here to help!\n"
      ]
     },
     "metadata": {},
     "output_type": "display_data"
    },
    {
     "data": {
      "text/html": [
       "<pre style=\"white-space:pre;overflow-x:auto;line-height:normal;font-family:Menlo,'DejaVu Sans Mono',consolas,'Courier New',monospace\"><span style=\"color: #008000; text-decoration-color: #008000\">🤖 Agent:</span> It seems like your message is empty again. If you’d like to save or recall any information, just type \n",
       "your request. I’m here whenever you need help with your memories!\n",
       "</pre>\n"
      ],
      "text/plain": [
       "\u001b[32m🤖 Agent:\u001b[0m It seems like your message is empty again. If you’d like to save or recall any information, just type \n",
       "your request. I’m here whenever you need help with your memories!\n"
      ]
     },
     "metadata": {},
     "output_type": "display_data"
    },
    {
     "data": {
      "text/html": [
       "<pre style=\"white-space:pre;overflow-x:auto;line-height:normal;font-family:Menlo,'DejaVu Sans Mono',consolas,'Courier New',monospace\"><span style=\"color: #808000; text-decoration-color: #808000\">Goodbye! Your memories are safely stored in Mem0 cloud.</span>\n",
       "</pre>\n"
      ],
      "text/plain": [
       "\u001b[33mGoodbye! Your memories are safely stored in Mem0 cloud.\u001b[0m\n"
      ]
     },
     "metadata": {},
     "output_type": "display_data"
    }
   ],
   "source": [
    "# Start interactive chat mode\n",
    "rprint(\"[bold green]🧠 Mem0 Cloud Agent is ready![/bold green]\")\n",
    "rprint(\"[dim]Type 'exit' or 'quit' to end the conversation.[/dim]\\n\")\n",
    "\n",
    "while True:\n",
    "    try:\n",
    "        user_query = input(\"> \")\n",
    "        if user_query.lower() in [\"exit\", \"quit\"]:\n",
    "            rprint(\"[yellow]Goodbye! Your memories are safely stored in Mem0 cloud.[/yellow]\")\n",
    "            break\n",
    "\n",
    "        user_msg = BaseMessage.make_user_message(role_name=\"User\", content=user_query)\n",
    "        response = agent.step(user_msg)\n",
    "        \n",
    "        # Show the agent's response\n",
    "        rprint(f\"[green]🤖 Agent:[/green] {response.msg.content}\")\n",
    "        \n",
    "    except KeyboardInterrupt:\n",
    "        rprint(\"\\n[yellow]Goodbye![/yellow]\")\n",
    "        break\n"
   ]
  },
  {
   "cell_type": "markdown",
   "id": "c7ccee4e",
   "metadata": {},
   "source": [
    "## 🌟 Key Features\n",
    "\n",
    "This memory-enabled agent demonstrates several powerful capabilities:\n",
    "\n",
    "### 🧠 **Persistent Memory**\n",
    "- Memories are stored in Mem0's cloud infrastructure\n",
    "- Information persists across different chat sessions\n",
    "- Automatic memory organization by agent and user IDs\n",
    "\n",
    "### 🔍 **Semantic Search**\n",
    "- Find relevant memories using natural language queries\n",
    "- Vector-based semantic matching for better results\n",
    "- Advanced filtering and reranking for improved accuracy\n",
    "\n",
    "### 🛠️ **Memory Management Tools**\n",
    "- **Add Memory**: Store new information with optional metadata\n",
    "- **Retrieve Memories**: Get all stored memories for the user/agent\n",
    "- **Search Memories**: Find specific information using semantic search\n",
    "- **Delete Memories**: Clear all memories when needed\n",
    "\n",
    "### 🎯 **Example Use Cases**\n",
    "- **Personal Assistant**: Remember user preferences, appointments, and important information\n",
    "- **Customer Support**: Maintain context across multiple support sessions\n",
    "- **Learning Companion**: Track learning progress and past topics discussed\n",
    "- **Project Management**: Remember project details, deadlines, and team information\n",
    "\n",
    "## 🎮 Try It Yourself!\n",
    "\n",
    "Here are some example prompts to test with your agent:"
   ]
  },
  {
   "cell_type": "code",
   "execution_count": 7,
   "id": "92368555",
   "metadata": {},
   "outputs": [
    {
     "name": "stdout",
     "output_type": "stream",
     "text": [
      "Try: Remember that I prefer meetings in the morning\n",
      "Try: My favorite programming language is Python\n",
      "Try: I'm working on a project called 'SmartHome Assistant'\n",
      "Try: What do you remember about my work preferences?\n",
      "Try: Search for information about programming languages\n",
      "Try: Tell me about my current projects\n"
     ]
    }
   ],
   "source": [
    "# Example interactions you can try:\n",
    "example_prompts = [\n",
    "    \"Remember that I prefer meetings in the morning\",\n",
    "    \"My favorite programming language is Python\",\n",
    "    \"I'm working on a project called 'SmartHome Assistant'\",\n",
    "    \"What do you remember about my work preferences?\",\n",
    "    \"Search for information about programming languages\",\n",
    "    \"Tell me about my current projects\",\n",
    "]\n",
    "\n",
    "for prompt in example_prompts:\n",
    "    print(f\"Try: {prompt}\")"
   ]
  },
  {
   "cell_type": "markdown",
   "id": "b7ce41c6",
   "metadata": {},
   "source": [
    "## 🌟 Highlights\n",
    "\n",
    "This notebook has guided you through building a sophisticated AI agent with persistent memory capabilities. Key technologies utilized include:\n",
    "\n",
    "- **CAMEL AI**: A powerful multi-agent framework enabling memory-enhanced AI interactions\n",
    "- **Mem0 Cloud**: Cloud-based vector storage with semantic search capabilities\n",
    "- **Custom Toolkits**: Extensible toolkit architecture for adding new capabilities\n",
    "- **Rich UI**: Beautiful terminal output with the Rich library\n",
    "\n",
    "That's everything! Got questions about 🐫 CAMEL-AI? [Join us on Discord!](https://discord.gg/CNcNpquyDc) Whether you want to share feedback, explore the latest in multi-agent systems, get support, or connect with others on exciting projects, we'd love to have you in the community! 🤝 \n",
    "\n",
    "Check out some of our other work:\n",
    "- 🐫 [Creating Your First CAMEL Agent](https://colab.research.google.com/drive/1AzP33O8rnMW__7ocWJhVBXjKziJXPtim) (free Colab)\n",
    "- [Graph RAG Cookbook](https://colab.research.google.com/drive/1LhI-7a5JUhLXxAfNHzSfvV8uOPl-FLhp) (free Colab)\n",
    "- 🧑‍⚖️ [Create A Hackathon Judge Committee with Workforce](https://colab.research.google.com/drive/1XpWMxJZ7Kv6RCLaE9RjZH8jdQsyPLzEJ) (free Colab)\n",
    "- 🔥 [3 Ways to Ingest Data from Websites with Firecrawl & CAMEL](https://colab.research.google.com/drive/1eYTlHkgj9bGbI1d0vYpK0vMSdIlJNRq3) (free Colab)\n",
    "\n",
    "Thanks from everyone at 🐫 CAMEL-AI!\n",
    "\n",
    "[CAMEL Homepage](https://www.camel-ai.org/) | [Join Discord](https://discord.gg/CNcNpquyDc) | ⭐ [Star us on GitHub](https://github.com/camel-ai/camel)"
   ]
  }
 ],
 "metadata": {
  "kernelspec": {
   "display_name": "Python 3",
   "language": "python",
   "name": "python3"
  },
  "language_info": {
   "codemirror_mode": {
    "name": "ipython",
    "version": 3
   },
   "file_extension": ".py",
   "mimetype": "text/x-python",
   "name": "python",
   "nbconvert_exporter": "python",
   "pygments_lexer": "ipython3",
   "version": "3.12.1"
  }
 },
 "nbformat": 4,
 "nbformat_minor": 5
}
